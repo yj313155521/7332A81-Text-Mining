{
 "cells": [
  {
   "cell_type": "markdown",
   "metadata": {},
   "source": [
    "<div class=\"alert alert-info\">\n",
    "    \n",
    "➡️ Make sure that you have read the **[rules for hand-in assignments](https://www.ida.liu.se/~TDDE16/exam.en.shtml#handins)** and the **[policy on cheating and plagiarism](https://www.ida.liu.se/~TDDE16/exam.en.shtml#cheating)** before starting with this lab.\n",
    "\n",
    "➡️ Make sure you fill in any cells (and _only_ those cells) that say **`YOUR CODE HERE`** or **YOUR ANSWER HERE**, and do _not_ modify any of the other cells.\n",
    "\n",
    "➡️ **Before you submit your lab, make sure everything runs as expected.** For this, _restart the kernel_ and _run all cells_ from top to bottom. In Jupyter Notebook version 7 or higher, you can do this via \"Run$\\rightarrow$Restart Kernel and Run All Cells...\" in the menu (or the \"⏩\" button in the toolbar).\n",
    "\n",
    "</div>"
   ]
  },
  {
   "cell_type": "markdown",
   "metadata": {},
   "source": [
    "# L4: Information extraction"
   ]
  },
  {
   "cell_type": "markdown",
   "metadata": {},
   "source": [
    "Information extraction (IE) is the task of identifying named entities and semantic relations between these entities in text data. In this lab we will focus on two sub-tasks in IE, **named entity recognition** (identifying mentions of entities) and **entity linking** (matching these mentions to entities in a knowledge base)."
   ]
  },
  {
   "cell_type": "code",
   "execution_count": 28,
   "metadata": {
    "deletable": false,
    "editable": false,
    "nbgrader": {
     "cell_type": "code",
     "checksum": "0c78909256555edff5cdb9a87e9760e4",
     "grade": false,
     "grade_id": "cell-85c6255538d879ed",
     "locked": true,
     "schema_version": 3,
     "solution": false,
     "task": false
    }
   },
   "outputs": [],
   "source": [
    "# Define some helper functions that are used in this notebook\n",
    "\n",
    "from IPython.display import display, HTML\n",
    "\n",
    "def success():\n",
    "    display(HTML('<div class=\"alert alert-success\"><strong>Solution appears correct!</strong></div>'))"
   ]
  },
  {
   "cell_type": "markdown",
   "metadata": {},
   "source": [
    "## Data set"
   ]
  },
  {
   "cell_type": "markdown",
   "metadata": {},
   "source": [
    "We start by loading spaCy. However, the data that we will be using has been tokenized following the conventions of the [Penn Treebank](ftp://ftp.cis.upenn.edu/pub/treebank/public_html/tokenization.html), and we need to prevent spaCy from using its own tokenizer on top of this. We therefore override spaCy&rsquo;s tokenizer with the default one that simply splits on whitespace."
   ]
  },
  {
   "cell_type": "code",
   "execution_count": 29,
   "metadata": {
    "deletable": false,
    "editable": false,
    "nbgrader": {
     "cell_type": "code",
     "checksum": "4c11c5b4c67f7121419c123d22ca1c04",
     "grade": false,
     "grade_id": "cell-3aa55cdb0a00a39c",
     "locked": true,
     "schema_version": 3,
     "solution": false,
     "task": false
    }
   },
   "outputs": [],
   "source": [
    "import spacy\n",
    "from spacy.tokenizer import Tokenizer\n",
    "\n",
    "nlp = spacy.load('en_core_web_sm')\n",
    "nlp.tokenizer = Tokenizer(nlp.vocab)"
   ]
  },
  {
   "cell_type": "markdown",
   "metadata": {},
   "source": [
    "The main data set for this lab is a collection of news wire articles in which mentions of named entities have been annotated with page names from the [English Wikipedia](https://en.wikipedia.org/wiki/). The next code cell loads the training and the development parts of the data into Pandas data frames."
   ]
  },
  {
   "cell_type": "code",
   "execution_count": 30,
   "metadata": {
    "deletable": false,
    "editable": false,
    "nbgrader": {
     "cell_type": "code",
     "checksum": "537a3b88e8890f1c0cb2b63a27ccd3a9",
     "grade": false,
     "grade_id": "cell-6f2dc34d737a5d2b",
     "locked": true,
     "schema_version": 3,
     "solution": false,
     "task": false
    }
   },
   "outputs": [],
   "source": [
    "import bz2\n",
    "import csv\n",
    "import pandas as pd\n",
    "import numpy as np\n",
    "\n",
    "with bz2.open('ner-train.tsv.bz2', 'rt') as source:\n",
    "    df_train = pd.read_csv(source, sep='\\t', quoting=csv.QUOTE_NONE)\n",
    "\n",
    "with bz2.open('ner-dev.tsv.bz2', 'rt') as source:\n",
    "    df_dev = pd.read_csv(source, sep='\\t', quoting=csv.QUOTE_NONE)"
   ]
  },
  {
   "cell_type": "markdown",
   "metadata": {},
   "source": [
    "Each row in these two data frames corresponds to one mention of a named entity and has five columns:\n",
    "\n",
    "1. a unique identifier for the sentence containing the entity mention\n",
    "2. the pre-tokenized sentence, with tokens separated by spaces\n",
    "3. the start position of the token span containing the entity mention\n",
    "4. the end position of the token span (exclusive, as in Python list indexing)\n",
    "5. the entity label; either a Wikipedia page name or the generic label `--NME--`\n",
    "\n",
    "The following cell prints the first five samples from the training data:"
   ]
  },
  {
   "cell_type": "code",
   "execution_count": 31,
   "metadata": {},
   "outputs": [
    {
     "data": {
      "text/html": [
       "<div>\n",
       "<style scoped>\n",
       "    .dataframe tbody tr th:only-of-type {\n",
       "        vertical-align: middle;\n",
       "    }\n",
       "\n",
       "    .dataframe tbody tr th {\n",
       "        vertical-align: top;\n",
       "    }\n",
       "\n",
       "    .dataframe thead th {\n",
       "        text-align: right;\n",
       "    }\n",
       "</style>\n",
       "<table border=\"1\" class=\"dataframe\">\n",
       "  <thead>\n",
       "    <tr style=\"text-align: right;\">\n",
       "      <th></th>\n",
       "      <th>sentence_id</th>\n",
       "      <th>sentence</th>\n",
       "      <th>beg</th>\n",
       "      <th>end</th>\n",
       "      <th>label</th>\n",
       "    </tr>\n",
       "  </thead>\n",
       "  <tbody>\n",
       "    <tr>\n",
       "      <th>0</th>\n",
       "      <td>0000-000</td>\n",
       "      <td>EU rejects German call to boycott British lamb .</td>\n",
       "      <td>0</td>\n",
       "      <td>1</td>\n",
       "      <td>--NME--</td>\n",
       "    </tr>\n",
       "    <tr>\n",
       "      <th>1</th>\n",
       "      <td>0000-000</td>\n",
       "      <td>EU rejects German call to boycott British lamb .</td>\n",
       "      <td>2</td>\n",
       "      <td>3</td>\n",
       "      <td>Germany</td>\n",
       "    </tr>\n",
       "    <tr>\n",
       "      <th>2</th>\n",
       "      <td>0000-000</td>\n",
       "      <td>EU rejects German call to boycott British lamb .</td>\n",
       "      <td>6</td>\n",
       "      <td>7</td>\n",
       "      <td>United_Kingdom</td>\n",
       "    </tr>\n",
       "    <tr>\n",
       "      <th>3</th>\n",
       "      <td>0000-001</td>\n",
       "      <td>Peter Blackburn</td>\n",
       "      <td>0</td>\n",
       "      <td>2</td>\n",
       "      <td>--NME--</td>\n",
       "    </tr>\n",
       "    <tr>\n",
       "      <th>4</th>\n",
       "      <td>0000-002</td>\n",
       "      <td>BRUSSELS 1996-08-22</td>\n",
       "      <td>0</td>\n",
       "      <td>1</td>\n",
       "      <td>Brussels</td>\n",
       "    </tr>\n",
       "  </tbody>\n",
       "</table>\n",
       "</div>"
      ],
      "text/plain": [
       "  sentence_id                                          sentence  beg  end  \\\n",
       "0    0000-000  EU rejects German call to boycott British lamb .    0    1   \n",
       "1    0000-000  EU rejects German call to boycott British lamb .    2    3   \n",
       "2    0000-000  EU rejects German call to boycott British lamb .    6    7   \n",
       "3    0000-001                                   Peter Blackburn    0    2   \n",
       "4    0000-002                               BRUSSELS 1996-08-22    0    1   \n",
       "\n",
       "            label  \n",
       "0         --NME--  \n",
       "1         Germany  \n",
       "2  United_Kingdom  \n",
       "3         --NME--  \n",
       "4        Brussels  "
      ]
     },
     "execution_count": 31,
     "metadata": {},
     "output_type": "execute_result"
    }
   ],
   "source": [
    "df_train.head()"
   ]
  },
  {
   "cell_type": "markdown",
   "metadata": {},
   "source": [
    "In this sample, we see that the first sentence is annotated with three entity mentions:\n",
    "\n",
    "* the span 0–1 &lsquo;EU&rsquo; is annotated as a mention but only labelled with the generic `--NME--`\n",
    "* the span 2–3 &lsquo;German&rsquo; is annotated with the page [Germany](http://en.wikipedia.org/wiki/Germany)\n",
    "* the span 6–7 &lsquo;British&rsquo; is annotated with the page [United_Kingdom](http://en.wikipedia.org/wiki/United_Kingdom)"
   ]
  },
  {
   "cell_type": "markdown",
   "metadata": {},
   "source": [
    "## Problem 1: Evaluation measures"
   ]
  },
  {
   "cell_type": "markdown",
   "metadata": {},
   "source": [
    "To warm up, we ask you to write code to print the three measures that you will be using for evaluation:"
   ]
  },
  {
   "cell_type": "code",
   "execution_count": 32,
   "metadata": {
    "deletable": false,
    "nbgrader": {
     "cell_type": "code",
     "checksum": "c23f8706ee19b4bd9ccea03fd3fece87",
     "grade": false,
     "grade_id": "cell-ca0fe4e7e601cd70",
     "locked": false,
     "schema_version": 3,
     "solution": true,
     "task": false
    }
   },
   "outputs": [],
   "source": [
    "import numpy as np\n",
    "\n",
    "def evaluation_scores(gold, pred):\n",
    "    \"\"\"Print precision, recall, and F1 score.\n",
    "    \n",
    "    Arguments:\n",
    "        gold: The set with the gold-standard values.\n",
    "        pred: The set with the predicted values.\n",
    "    \n",
    "    Returns:\n",
    "        A tuple or list containing the precision, recall, and F1 values\n",
    "        (in that order), computed based on the specified sets.\n",
    "    \"\"\"\n",
    "    # YOUR CODE HERE\n",
    "    # minlen = min(len(gold), len(pred))  \n",
    "    # tp = np.sum(np.asarray(list(gold))[:minlen] == np.asarray(list(pred))[:minlen])\n",
    "    tp = len([i for i in pred if i in gold])\n",
    "\n",
    "    precision = tp/len(pred)\n",
    "    # tp/p (positive pred)\n",
    "    recall = tp/len(gold)\n",
    "    # tp/(tp + fn) (positive obs)\n",
    "    F1 = 2*precision*recall/(precision+recall)\n",
    "\n",
    "    return [precision, recall, F1]\n",
    "    # raise NotImplementedError()"
   ]
  },
  {
   "cell_type": "markdown",
   "metadata": {},
   "source": [
    "Let's also define a convenience function that prints the scores nicely:"
   ]
  },
  {
   "cell_type": "code",
   "execution_count": 33,
   "metadata": {
    "deletable": false,
    "editable": false,
    "nbgrader": {
     "cell_type": "code",
     "checksum": "a8a0b8a24c5a862120c21a9df79e8115",
     "grade": false,
     "grade_id": "cell-97ba51a2487dc428",
     "locked": true,
     "schema_version": 3,
     "solution": false,
     "task": false
    }
   },
   "outputs": [],
   "source": [
    "def print_evaluation_scores(scores):\n",
    "    p, r, f = scores\n",
    "    print(f\"Precision: {p:.3f}, Recall: {r:.3f}, F1: {f:.3f}\")"
   ]
  },
  {
   "cell_type": "markdown",
   "metadata": {},
   "source": [
    "### 🤞 Test your code"
   ]
  },
  {
   "cell_type": "markdown",
   "metadata": {},
   "source": [
    "To test your code, you can run the following cell. This should give you a precision of 60%, a recall of 100%, and an F1-value of 75%."
   ]
  },
  {
   "cell_type": "code",
   "execution_count": 34,
   "metadata": {
    "deletable": false,
    "editable": false,
    "nbgrader": {
     "cell_type": "code",
     "checksum": "d0d52c9f78652c39e5c9e04b57b1ca8c",
     "grade": true,
     "grade_id": "cell-0de2d4e882169381",
     "locked": true,
     "points": 1,
     "schema_version": 3,
     "solution": false,
     "task": false
    }
   },
   "outputs": [
    {
     "name": "stdout",
     "output_type": "stream",
     "text": [
      "Precision: 0.600, Recall: 1.000, F1: 0.750\n"
     ]
    },
    {
     "data": {
      "text/html": [
       "<div class=\"alert alert-success\"><strong>Solution appears correct!</strong></div>"
      ],
      "text/plain": [
       "<IPython.core.display.HTML object>"
      ]
     },
     "metadata": {},
     "output_type": "display_data"
    }
   ],
   "source": [
    "# Check if the results match what is expected\n",
    "result = evaluation_scores(set(range(3)), set(range(5)))\n",
    "assert len(result) == 3, \"Should return exactly three scores\"\n",
    "print_evaluation_scores(result)\n",
    "assert np.isclose(result, (.6, 1.0, .75)).all(), \"Should be close to the expected values\"\n",
    "success()"
   ]
  },
  {
   "cell_type": "markdown",
   "metadata": {},
   "source": [
    "## Problem 2: Span recognition"
   ]
  },
  {
   "cell_type": "markdown",
   "metadata": {},
   "source": [
    "One of the first tasks that an information extraction system has to solve is to locate and classify (mentions of) named entities, such as persons and organizations. Here we will tackle the simpler task of recognizing **spans** of tokens that contain an entity mention, without the actual entity label.\n",
    "\n",
    "The English language model in spaCy features a full-fledged [named entity recognizer](https://spacy.io/usage/linguistic-features#named-entities) that identifies a variety of entities, and can be updated with new entity types by the user. Your task in this problem is to evaluate the performance of this component when predicting entity spans in the development data."
   ]
  },
  {
   "cell_type": "markdown",
   "metadata": {},
   "source": [
    "### Task 2.1\n",
    "\n",
    "Start by implementing a generator function that yields the gold-standard spans in a given data frame.  (If you're not familiar with the `yield` keyword in Python, check out [this brief explanation](https://www.nbshare.io/notebook/851988260/Python-Yield/).)\n",
    "\n",
    "**Hint:** The Pandas method [`itertuples()`](https://pandas.pydata.org/pandas-docs/version/0.17.0/generated/pandas.DataFrame.itertuples.html) is useful when iterating over the rows in a DataFrame."
   ]
  },
  {
   "cell_type": "code",
   "execution_count": 35,
   "metadata": {},
   "outputs": [],
   "source": [
    "import pandas as pd"
   ]
  },
  {
   "cell_type": "code",
   "execution_count": 36,
   "metadata": {},
   "outputs": [
    {
     "name": "stdout",
     "output_type": "stream",
     "text": [
      "Pandas(Index=0, sentence_id='0946-000', sentence='CRICKET - LEICESTERSHIRE TAKE OVER AT TOP AFTER INNINGS VICTORY .', beg=2, end=3, label='Leicestershire_County_Cricket_Club')\n"
     ]
    },
    {
     "data": {
      "text/plain": [
       "(1, 2)"
      ]
     },
     "execution_count": 36,
     "metadata": {},
     "output_type": "execute_result"
    }
   ],
   "source": [
    "#test\n",
    "df = df_dev.head()\n",
    "def testf(df):\n",
    "    for row in df.head().itertuples():\n",
    "        idx = [1,3,4]\n",
    "        print(row)\n",
    "        yield 1,2\n",
    "        # yield 2\n",
    "        # yield (row[1],row[3],row[4])\n",
    "        # doc = nlp(row)\n",
    "        # for ent in doc.ents:\n",
    "        #     print(ent.text, ent.start_char, ent.end_char, ent.label_)\n",
    "next(testf(df))"
   ]
  },
  {
   "cell_type": "code",
   "execution_count": 37,
   "metadata": {
    "deletable": false,
    "nbgrader": {
     "cell_type": "code",
     "checksum": "ad2ad77ae4781b6ca59130065bfe996a",
     "grade": false,
     "grade_id": "cell-96b73b0db9000ea3",
     "locked": false,
     "schema_version": 3,
     "solution": true,
     "task": false
    }
   },
   "outputs": [],
   "source": [
    "def gold_spans(df):\n",
    "    \"\"\"Yield the gold-standard mention spans in a data frame.\n",
    "\n",
    "    Arguments:\n",
    "        df: A data frame.\n",
    "\n",
    "    Yields:\n",
    "        The gold-standard mention spans in the specified data frame as\n",
    "        triples consisting of the sentence id, start position, and end\n",
    "        position of each span.\n",
    "    \"\"\"\n",
    "    # YOUR CODE HERE\n",
    "    for row in df.itertuples():\n",
    "        \n",
    "        yield ((row[1],row[3],row[4]))\n",
    "        # id, beg ,end\n",
    "\n",
    "\n",
    "    # raise NotImplementedError()"
   ]
  },
  {
   "cell_type": "markdown",
   "metadata": {},
   "source": [
    "#### 🤞 Test your code\n",
    "\n",
    "To test your code, you can run the following cell, which counts the spans yielded by your function when called on the development data (there should be 5,917 _unique_ triples), and checks if the first and last yielded triples are included in the results."
   ]
  },
  {
   "cell_type": "code",
   "execution_count": 38,
   "metadata": {
    "deletable": false,
    "editable": false,
    "nbgrader": {
     "cell_type": "code",
     "checksum": "4fc4d57291bcca91a53033d9061fdba5",
     "grade": true,
     "grade_id": "cell-8cb736d325aa10ba",
     "locked": true,
     "points": 1,
     "schema_version": 3,
     "solution": false,
     "task": false
    }
   },
   "outputs": [
    {
     "data": {
      "text/html": [
       "<div class=\"alert alert-success\"><strong>Solution appears correct!</strong></div>"
      ],
      "text/plain": [
       "<IPython.core.display.HTML object>"
      ]
     },
     "metadata": {},
     "output_type": "display_data"
    }
   ],
   "source": [
    "spans_dev_gold = set(gold_spans(df_dev))\n",
    "assert len(spans_dev_gold) == 5917, \"The number of unique returned triples is not correct.\"\n",
    "assert ('0946-000', 2, 3) in spans_dev_gold, \"The first expected triple is not included in the results.\"\n",
    "assert ('1161-010', 1, 3) in spans_dev_gold, \"The last expected triple is not included in the results.\"\n",
    "success()"
   ]
  },
  {
   "cell_type": "markdown",
   "metadata": {},
   "source": [
    "### Task 2.2\n",
    "\n",
    "Your next task is to write code that calls spaCy to predict the named entities in the development data.  You should do this in form of a function that works the same as `gold_spans()`, but which returns the spans as predicted by spaCy instead."
   ]
  },
  {
   "cell_type": "code",
   "execution_count": 39,
   "metadata": {
    "deletable": false,
    "nbgrader": {
     "cell_type": "code",
     "checksum": "1c3dad78c16a22383473114f7e040fad",
     "grade": false,
     "grade_id": "cell-f5b568125d3e20e9",
     "locked": false,
     "schema_version": 3,
     "solution": true,
     "task": false
    },
    "tags": [
     "solution"
    ]
   },
   "outputs": [],
   "source": [
    "def pred_spans(df):\n",
    "    \"\"\"Run and evaluate spaCy's NER.\n",
    "\n",
    "    Arguments:\n",
    "        df: A data frame.\n",
    "\n",
    "    Yields:\n",
    "        The predicted mention spans in the specified data frame as\n",
    "        triples consisting of the sentence id, start position, and end\n",
    "        position of each span.\n",
    "    \"\"\"\n",
    "    for row in df.itertuples():\n",
    "        senId = row[1]\n",
    "        sen = row[2]\n",
    "        doc = nlp(sen)\n",
    "        for ent in doc.ents:\n",
    "            yield (senId, ent.start, ent.end)\n",
    "\n",
    "    # YOUR CODE HERE\n",
    "    # raise NotImplementedError()"
   ]
  },
  {
   "cell_type": "code",
   "execution_count": 40,
   "metadata": {},
   "outputs": [
    {
     "data": {
      "text/plain": [
       "('0946-001', 0, 1)"
      ]
     },
     "execution_count": 40,
     "metadata": {},
     "output_type": "execute_result"
    }
   ],
   "source": [
    "next(pred_spans(df.head()))"
   ]
  },
  {
   "cell_type": "markdown",
   "metadata": {},
   "source": [
    "#### 🤞 Test your code\n",
    "\n",
    "The following cell runs the prediction and reports the evaluation measures. The expected precision is above 50%, with a recall above 70% and an F1-score around 60%.\n"
   ]
  },
  {
   "cell_type": "code",
   "execution_count": 293,
   "metadata": {
    "deletable": false,
    "editable": false,
    "nbgrader": {
     "cell_type": "code",
     "checksum": "f858e34608568c914e9196268e4f5944",
     "grade": true,
     "grade_id": "cell-a61480e94bbc6fc7",
     "locked": true,
     "points": 1,
     "schema_version": 3,
     "solution": false,
     "task": false
    }
   },
   "outputs": [
    {
     "name": "stdout",
     "output_type": "stream",
     "text": [
      "Precision: 0.519, Recall: 0.717, F1: 0.602\n"
     ]
    },
    {
     "data": {
      "text/html": [
       "<div class=\"alert alert-success\"><strong>Solution appears correct!</strong></div>"
      ],
      "text/plain": [
       "<IPython.core.display.HTML object>"
      ]
     },
     "metadata": {},
     "output_type": "display_data"
    }
   ],
   "source": [
    "spans_dev_pred = set(pred_spans(df_dev))\n",
    "spans_dev_gold = set(gold_spans(df_dev))\n",
    "scores = evaluation_scores(spans_dev_gold, spans_dev_pred)\n",
    "print_evaluation_scores(scores)\n",
    "assert scores[0] > .50, \"Precision should be above 50%.\"\n",
    "assert scores[1] > .70, \"Recall should be above 70%.\"\n",
    "success()"
   ]
  },
  {
   "cell_type": "code",
   "execution_count": 205,
   "metadata": {},
   "outputs": [
    {
     "name": "stdout",
     "output_type": "stream",
     "text": [
      "  sentence_id                                           sentence  beg  end  \\\n",
      "0    0946-000  CRICKET - LEICESTERSHIRE TAKE OVER AT TOP AFTE...    2    3   \n",
      "1    0946-001                                  LONDON 1996-08-30    0    1   \n",
      "2    0946-002  West Indian all-rounder Phil Simmons took four...    0    2   \n",
      "3    0946-002  West Indian all-rounder Phil Simmons took four...    3    5   \n",
      "4    0946-002  West Indian all-rounder Phil Simmons took four...   12   13   \n",
      "\n",
      "                                label  \n",
      "0  Leicestershire_County_Cricket_Club  \n",
      "1                              London  \n",
      "2            West_Indies_cricket_team  \n",
      "3                        Phil_Simmons  \n",
      "4  Leicestershire_County_Cricket_Club  \n",
      "-----\n",
      "###row Pandas(Index=0, sentence_id='0946-000', sentence='CRICKET - LEICESTERSHIRE TAKE OVER AT TOP AFTER INNINGS VICTORY .', beg=2, end=3, label='Leicestershire_County_Cricket_Club')\n",
      "(CRICKET - LEICESTERSHIRE TAKE OVER AT TOP AFTER INNINGS VICTORY ., 2, 3)\n",
      "###row Pandas(Index=1, sentence_id='0946-001', sentence='LONDON 1996-08-30', beg=0, end=1, label='London')\n",
      "(LONDON 1996-08-30, 0, 1)\n",
      "###ent LONDON\n",
      "<class 'spacy.tokens.span.Span'> <class 'str'>\n",
      "###ent.text LONDON\n",
      "('0946-001', 0, 1)\n",
      "###ent 1996-08-30\n",
      "<class 'spacy.tokens.span.Span'> <class 'str'>\n",
      "###ent.text \n",
      "('0946-001', 1, 2)\n",
      "###row Pandas(Index=2, sentence_id='0946-002', sentence='West Indian all-rounder Phil Simmons took four for 38 on Friday as Leicestershire beat Somerset by an innings and 39 runs in two days to take over at the head of the county championship .', beg=0, end=2, label='West_Indies_cricket_team')\n",
      "(West Indian all-rounder Phil Simmons took four for 38 on Friday as Leicestershire beat Somerset by an innings and 39 runs in two days to take over at the head of the county championship ., 0, 2)\n",
      "###ent West Indian\n",
      "<class 'spacy.tokens.span.Span'> <class 'str'>\n",
      "###ent.text West Indian\n",
      "('0946-002', 0, 2)\n",
      "###ent Phil Simmons\n",
      "<class 'spacy.tokens.span.Span'> <class 'str'>\n",
      "###ent.text \n",
      "('0946-002', 3, 5)\n",
      "###ent four\n",
      "<class 'spacy.tokens.span.Span'> <class 'str'>\n",
      "###ent.text \n",
      "('0946-002', 6, 7)\n",
      "###ent 38\n",
      "<class 'spacy.tokens.span.Span'> <class 'str'>\n",
      "###ent.text \n",
      "('0946-002', 8, 9)\n",
      "###ent Friday\n",
      "<class 'spacy.tokens.span.Span'> <class 'str'>\n",
      "###ent.text \n",
      "('0946-002', 10, 11)\n",
      "###ent Leicestershire\n",
      "<class 'spacy.tokens.span.Span'> <class 'str'>\n",
      "###ent.text \n",
      "('0946-002', 12, 13)\n",
      "###ent 39\n",
      "<class 'spacy.tokens.span.Span'> <class 'str'>\n",
      "###ent.text \n",
      "('0946-002', 19, 20)\n",
      "###ent two days\n",
      "<class 'spacy.tokens.span.Span'> <class 'str'>\n",
      "###ent.text \n",
      "('0946-002', 22, 24)\n",
      "###row Pandas(Index=3, sentence_id='0946-002', sentence='West Indian all-rounder Phil Simmons took four for 38 on Friday as Leicestershire beat Somerset by an innings and 39 runs in two days to take over at the head of the county championship .', beg=3, end=5, label='Phil_Simmons')\n",
      "(West Indian all-rounder Phil Simmons took four for 38 on Friday as Leicestershire beat Somerset by an innings and 39 runs in two days to take over at the head of the county championship ., 3, 5)\n",
      "###ent West Indian\n",
      "<class 'spacy.tokens.span.Span'> <class 'str'>\n",
      "###ent.text West Indian\n",
      "('0946-002', 0, 2)\n",
      "###ent Phil Simmons\n",
      "<class 'spacy.tokens.span.Span'> <class 'str'>\n",
      "###ent.text \n",
      "('0946-002', 3, 5)\n",
      "###ent four\n",
      "<class 'spacy.tokens.span.Span'> <class 'str'>\n",
      "###ent.text \n",
      "('0946-002', 6, 7)\n",
      "###ent 38\n",
      "<class 'spacy.tokens.span.Span'> <class 'str'>\n",
      "###ent.text \n",
      "('0946-002', 8, 9)\n",
      "###ent Friday\n",
      "<class 'spacy.tokens.span.Span'> <class 'str'>\n",
      "###ent.text \n",
      "('0946-002', 10, 11)\n",
      "###ent Leicestershire\n",
      "<class 'spacy.tokens.span.Span'> <class 'str'>\n",
      "###ent.text \n",
      "('0946-002', 12, 13)\n",
      "###ent 39\n",
      "<class 'spacy.tokens.span.Span'> <class 'str'>\n",
      "###ent.text \n",
      "('0946-002', 19, 20)\n",
      "###ent two days\n",
      "<class 'spacy.tokens.span.Span'> <class 'str'>\n",
      "###ent.text \n",
      "('0946-002', 22, 24)\n",
      "###row Pandas(Index=4, sentence_id='0946-002', sentence='West Indian all-rounder Phil Simmons took four for 38 on Friday as Leicestershire beat Somerset by an innings and 39 runs in two days to take over at the head of the county championship .', beg=12, end=13, label='Leicestershire_County_Cricket_Club')\n",
      "(West Indian all-rounder Phil Simmons took four for 38 on Friday as Leicestershire beat Somerset by an innings and 39 runs in two days to take over at the head of the county championship ., 12, 13)\n",
      "###ent West Indian\n",
      "<class 'spacy.tokens.span.Span'> <class 'str'>\n",
      "###ent.text West Indian\n",
      "('0946-002', 0, 2)\n",
      "###ent Phil Simmons\n",
      "<class 'spacy.tokens.span.Span'> <class 'str'>\n",
      "###ent.text \n",
      "('0946-002', 3, 5)\n",
      "###ent four\n",
      "<class 'spacy.tokens.span.Span'> <class 'str'>\n",
      "###ent.text \n",
      "('0946-002', 6, 7)\n",
      "###ent 38\n",
      "<class 'spacy.tokens.span.Span'> <class 'str'>\n",
      "###ent.text \n",
      "('0946-002', 8, 9)\n",
      "###ent Friday\n",
      "<class 'spacy.tokens.span.Span'> <class 'str'>\n",
      "###ent.text \n",
      "('0946-002', 10, 11)\n",
      "###ent Leicestershire\n",
      "<class 'spacy.tokens.span.Span'> <class 'str'>\n",
      "###ent.text \n",
      "('0946-002', 12, 13)\n",
      "###ent 39\n",
      "<class 'spacy.tokens.span.Span'> <class 'str'>\n",
      "###ent.text \n",
      "('0946-002', 19, 20)\n",
      "###ent two days\n",
      "<class 'spacy.tokens.span.Span'> <class 'str'>\n",
      "###ent.text \n",
      "('0946-002', 22, 24)\n"
     ]
    }
   ],
   "source": [
    "#test\n",
    "tg = set(range(3))\n",
    "tp = set(range(5))\n",
    "df = df_dev.head()\n",
    "spans_dev_pred = set(pred_spans(df_dev.head()))\n",
    "spans_dev_gold = set(gold_spans(df_dev.head()))\n",
    "[i for i in spans_dev_pred if i in spans_dev_gold]\n",
    "print(df_dev.head())\n",
    "# print(spans_dev_gold)\n",
    "# print(spans_dev_pred)\n",
    "print('-----')\n",
    "for row in df.itertuples():\n",
    "        senId = row[1]\n",
    "        sen = row[2]\n",
    "        doc = nlp(sen)\n",
    "        print(\"###row\",row)\n",
    "        print((doc,row[3],row[4]))\n",
    "        for ent in doc.ents:\n",
    "            print(\"###ent\",ent)\n",
    "            print(type(ent),type(ent.text))\n",
    "            text = ent[ent.start:ent.end]\n",
    "            print(\"###ent.text\",text)\n",
    "            print ((senId, ent.start, ent.end))"
   ]
  },
  {
   "cell_type": "markdown",
   "metadata": {},
   "source": [
    "## Problem 3: Error analysis"
   ]
  },
  {
   "cell_type": "markdown",
   "metadata": {},
   "source": [
    "As you were able to see in Problem&nbsp;2, the span accuracy of the named entity recognizer is far from perfect. In particular, only slightly more than half of the predicted spans are correct according to the gold standard. Your next task is to analyse this result in more detail.\n",
    "\n",
    "Here is a function that prints the false positives as well as the false negatives spans for a data frame, given a reference set of gold-standard spans and a candidate set of predicted spans."
   ]
  },
  {
   "cell_type": "code",
   "execution_count": 44,
   "metadata": {
    "deletable": false,
    "editable": false,
    "nbgrader": {
     "cell_type": "code",
     "checksum": "bcd53e0a3866505e10dcd7e251c23afe",
     "grade": false,
     "grade_id": "cell-fbe0d078d84742d6",
     "locked": true,
     "schema_version": 3,
     "solution": false,
     "task": false
    }
   },
   "outputs": [],
   "source": [
    "from collections import defaultdict\n",
    "\n",
    "def error_report(df, spans_gold, spans_pred):\n",
    "    false_pos = defaultdict(list)\n",
    "    for s, b, e in spans_pred - spans_gold:\n",
    "        false_pos[s].append((b, e))\n",
    "    false_neg = defaultdict(list)\n",
    "    for s, b, e in spans_gold - spans_pred:\n",
    "        false_neg[s].append((b, e))\n",
    "    for row in df.drop_duplicates('sentence_id').itertuples():\n",
    "        if row.sentence_id in false_pos or row.sentence_id in false_neg:\n",
    "            print('Sentence:', row.sentence)\n",
    "            for b, e in false_pos[row.sentence_id]:\n",
    "                print('  FP:', ' '.join(row.sentence.split()[b:e]))\n",
    "            for b, e in false_neg[row.sentence_id]:\n",
    "                print('  FN:', ' '.join(row.sentence.split()[b:e]))"
   ]
  },
  {
   "cell_type": "markdown",
   "metadata": {},
   "source": [
    "### Task 3.1\n",
    "\n",
    "1. Use the `error_report()` function above to inspect and analyse the errors that the automated prediction makes. Base your analysis on the first 500 rows of the training data. Can you see any patterns?\n",
    "2. Summarize your observations in a short text."
   ]
  },
  {
   "cell_type": "code",
   "execution_count": 91,
   "metadata": {
    "deletable": false,
    "nbgrader": {
     "cell_type": "code",
     "checksum": "3f6189a9fb722a164a923a3a51bbbd92",
     "grade": true,
     "grade_id": "cell-a17e92a61aedec84",
     "locked": false,
     "points": 1,
     "schema_version": 3,
     "solution": true,
     "task": false
    },
    "tags": [
     "solution"
    ]
   },
   "outputs": [
    {
     "name": "stdout",
     "output_type": "stream",
     "text": [
      "Sentence: BRUSSELS 1996-08-22\n",
      "  FP: 1996-08-22\n",
      "Sentence: The European Commission said on Thursday it disagreed with German advice to consumers to shun British lamb until scientists determine whether mad cow disease can be transmitted to sheep .\n",
      "  FP: The European Commission\n",
      "  FP: Thursday\n",
      "  FN: European Commission\n",
      "Sentence: Germany 's representative to the European Union 's veterinary committee Werner Zwingmann said on Wednesday consumers should buy sheepmeat from countries other than Britain until the scientific advice was clearer .\n",
      "  FP: Wednesday\n",
      "  FP: the European Union 's\n",
      "  FN: European Union\n",
      "Sentence: \" We do n't support any such recommendation because we do n't see any grounds for it , \" the Commission 's chief spokesman Nikolaus van der Pas told a news briefing .\n",
      "  FP: Nikolaus van der\n",
      "  FP: Pas\n",
      "  FN: Nikolaus van der Pas\n",
      "Sentence: He said further scientific study was required and if it was found that action was needed it should be taken by the European Union .\n",
      "  FP: the European Union\n",
      "  FN: European Union\n",
      "Sentence: He said a proposal last month by EU Farm Commissioner Franz Fischler to ban sheep brains , spleens and spinal cords from the human and animal food chains was a highly specific and precautionary move to protect human health .\n",
      "  FP: last month\n",
      "  FP: EU Farm\n",
      "  FN: EU\n",
      "Sentence: Fischler proposed EU-wide measures after reports from Britain and France that under laboratory conditions sheep could contract Bovine Spongiform Encephalopathy ( BSE ) -- mad cow disease .\n",
      "  FN: EU-wide\n",
      "Sentence: The EU 's scientific veterinary and multidisciplinary committees are due to re-examine the issue early next month and make recommendations to the senior veterinary officials .\n",
      "  FP: early next month\n",
      "Sentence: British farmers denied on Thursday there was any danger to human health from their sheep , but expressed concern that German government advice to consumers to avoid British lamb might influence consumers across Europe .\n",
      "  FP: Thursday\n",
      "Sentence: \" What we have to be extremely careful of is how other countries are going to take Germany 's lead , \" Welsh National Farmers ' Union ( NFU ) chairman John Lloyd Jones said on BBC radio .\n",
      "  FP: BBC\n",
      "  FN: BBC radio\n",
      "  FN: NFU\n",
      "  FN: Welsh National Farmers ' Union\n",
      "Sentence: Bonn has led efforts to protect public health after consumer confidence collapsed in March after a British report suggested humans could contract an illness similar to mad cow disease by eating contaminated beef .\n",
      "  FP: March\n",
      "Sentence: Germany imported 47,600 sheep from Britain last year , nearly half of total imports .\n",
      "  FP: nearly half\n",
      "  FP: last year\n",
      "  FP: 47,600\n",
      "Sentence: It brought in 4,275 tonnes of British mutton , some 10 percent of overall imports .\n",
      "  FP: 4,275 tonnes\n",
      "  FP: some 10 percent\n",
      "Sentence: Rare Hendrix song draft sells for almost $ 17,000 .\n",
      "  FP: almost $ 17,000\n",
      "  FN: Hendrix\n",
      "Sentence: LONDON 1996-08-22\n",
      "  FP: 1996-08-22\n",
      "Sentence: A rare early handwritten draft of a song by U.S. guitar legend Jimi Hendrix was sold for almost $ 17,000 on Thursday at an auction of some of the late musician 's favourite possessions .\n",
      "  FP: almost $ 17,000\n",
      "  FP: Thursday\n",
      "Sentence: A Florida restaurant paid 10,925 pounds ( $ 16,935 ) for the draft of \" Ai n't no telling \" , which Hendrix penned on a piece of London hotel stationery in late 1966 .\n",
      "  FP: 10,925 pounds\n",
      "  FP: 16,935\n",
      "  FN: Ai n't no telling\n",
      "Sentence: At the end of a January 1967 concert in the English city of Nottingham he threw the sheet of paper into the audience , where it was retrieved by a fan .\n",
      "  FP: January 1967\n",
      "Sentence: Buyers also snapped up 16 other items that were put up for auction by Hendrix 's former girlfriend Kathy Etchingham , who lived with him from 1966 to 1969 .\n",
      "  FP: 16\n",
      "  FP: 1966\n",
      "  FP: 1969\n",
      "Sentence: They included a black lacquer and mother of pearl inlaid box used by Hendrix to store his drugs , which an anonymous Australian purchaser bought for 5,060 pounds ( $ 7,845 ) .\n",
      "  FP: 5,060 pounds\n",
      "  FP: 7,845\n",
      "Sentence: BEIJING 1996-08-22\n",
      "  FP: 1996-08-22\n",
      "Sentence: China on Thursday accused Taipei of spoiling the atmosphere for a resumption of talks across the Taiwan Strait with a visit to Ukraine by Taiwanese Vice President Lien Chan this week that infuriated Beijing .\n",
      "  FP: this week\n",
      "  FP: the Taiwan Strait\n",
      "  FP: Thursday\n",
      "  FN: Taiwan Strait\n",
      "Sentence: Speaking only hours after Chinese state media said the time was right to engage in political talks with Taiwan , Foreign Ministry spokesman Shen Guofang told Reuters : \" The necessary atmosphere for the opening of the talks has been disrupted by the Taiwan authorities . \"\n",
      "  FP: only hours\n",
      "Sentence: State media quoted China 's top negotiator with Taipei , Tang Shubei , as telling a visiting group from Taiwan on Wednesday that it was time for the rivals to hold political talks .\n",
      "  FP: Wednesday\n",
      "Sentence: that is to end the state of hostility , \" Thursday 's overseas edition of the People 's Daily quoted Tang as saying .\n",
      "  FP: Thursday\n",
      "  FP: the People 's Daily\n",
      "  FN: People 's Daily\n",
      "Sentence: China , which has long opposed all Taipei efforts to gain greater international recognition , was infuriated by a visit to Ukraine this week by Taiwanese Vice President Lien .\n",
      "  FP: this week\n",
      "Sentence: BEIJING 1996-08-22\n",
      "  FP: 1996-08-22\n",
      "Sentence: Consultations should be held to set the time and format of the talks , the official Xinhua news agency quoted Tang Shubei , executive vice chairman of the Association for Relations Across the Taiwan Straits , as saying late on Wednesday .\n",
      "  FP: Wednesday\n",
      "  FP: Xinhua news agency\n",
      "  FP: the Association for Relations Across the Taiwan Straits\n",
      "  FN: Xinhua\n",
      "  FN: Association for Relations Across the Taiwan Straits\n",
      "Sentence: German July car registrations up 14.2 pct yr / yr .\n",
      "  FP: July\n",
      "  FP: 14.2\n",
      "  FN: German\n",
      "Sentence: FRANKFURT 1996-08-22\n",
      "  FP: 1996-08-22\n",
      "  FN: FRANKFURT\n",
      "Sentence: German first-time registrations of motor vehicles jumped 14.2 percent in July this year from the year-earlier period , the Federal office for motor vehicles said on Thursday .\n",
      "  FP: July\n",
      "  FP: Thursday\n",
      "  FP: this year\n",
      "  FP: 14.2 percent\n",
      "  FN: Federal office for motor vehicles\n",
      "Sentence: Volkswagen AG won 77,719 registrations , slightly more than a quarter of the total .\n",
      "  FP: more than a quarter\n",
      "  FP: 77,719\n",
      "Sentence: Opel AG together with General Motors came in second place with 49,269 registrations , 16.4 percent of the overall figure .\n",
      "  FP: 49,269\n",
      "  FP: 16.4 percent\n",
      "  FP: second\n",
      "Sentence: Third was Ford with 35,563 registrations , or 11.7 percent .\n",
      "  FP: 11.7 percent\n",
      "  FP: Third\n",
      "  FP: 35,563\n",
      "Sentence: Only Seat and Porsche had fewer registrations in July 1996 compared to last year 's July .\n",
      "  FP: last year 's\n",
      "  FP: July 1996\n",
      "  FP: July\n",
      "  FN: Seat\n",
      "Sentence: Seat posted 3,420 registrations compared with 5522 registrations in July a year earlier .\n",
      "  FP: a year earlier\n",
      "  FP: July\n",
      "  FP: 5522\n",
      "  FP: 3,420\n",
      "  FN: Seat\n",
      "Sentence: Porsche 's registrations fell to 554 from 643 .\n",
      "  FP: 554\n",
      "  FP: 643\n",
      "Sentence: GREEK SOCIALISTS GIVE GREEN LIGHT TO PM FOR ELECTIONS .\n",
      "  FP: TO PM\n",
      "  FN: GREEK\n",
      "Sentence: ATHENS 1996-08-22\n",
      "  FP: 1996-08-22\n",
      "  FN: ATHENS\n",
      "Sentence: Prime Minister Costas Simitis is going to make an official announcement after a cabinet meeting later on Thursday , said Skandalidis .\n",
      "  FP: Thursday\n",
      "Sentence: -- Dimitris Kontogiannis , Athens Newsroom +301 3311812-4\n",
      "  FP: -- Dimitris Kontogiannis\n",
      "  FN: Dimitris Kontogiannis\n",
      "Sentence: BayerVB sets C$ 100 million six-year bond .\n",
      "  FP: BayerVB sets C$ 100 million\n",
      "  FN: BayerVB\n",
      "  FN: C$\n",
      "Sentence: LONDON 1996-08-22\n",
      "  FP: 1996-08-22\n",
      "Sentence: BORROWER BAYERISCHE VEREINSBANK\n",
      "  FP: BORROWER\n",
      "  FN: BAYERISCHE VEREINSBANK\n",
      "Sentence: AMT C$ 100 MLN COUPON 6.625 MATURITY 24.SEP.02\n",
      "  FP: 6.625\n",
      "  FN: C$\n",
      "Sentence: GOV LAW GERMAN HOME CTRY = TAX PROVS STANDARD\n",
      "  FP: GOV LAW GERMAN HOME CTRY = TAX PROVS STANDARD\n",
      "  FN: GERMAN\n",
      "Sentence: NOTES BAYERISCHE VEREINSBANK IS JOINT LEAD MANAGER\n",
      "  FN: BAYERISCHE VEREINSBANK\n",
      "Sentence: -- London Newsroom +44 171 542 7658\n",
      "  FP: 171\n",
      "Sentence: Venantius sets $ 300 million January 1999 FRN .\n",
      "  FP: January 1999\n",
      "  FP: $ 300 million\n",
      "  FN: Venantius\n",
      "Sentence: LONDON 1996-08-22\n",
      "  FP: 1996-08-22\n",
      "Sentence: BORROWER VENANTIUS AB ( SWEDISH NATIONAL MORTGAGE AGENCY )\n",
      "  FP: SWEDISH NATIONAL MORTGAGE AGENCY\n",
      "  FP: BORROWER VENANTIUS AB\n",
      "  FN: VENANTIUS AB\n",
      "  FN: SWEDISH\n",
      "Sentence: TYPE FRN BASE 3M LIBOR PAY DATE S23.SEP.96\n",
      "  FN: 3M\n",
      "Sentence: LISTING LONDON DENOMS ( K ) 1-10-100 SALE LIMITS US / UK / JP / FR\n",
      "  FN: JP\n",
      "  FN: FR\n",
      "Sentence: GOV LAW ENGLISH HOME CTRY SWEDEN TAX PROVS STANDARD\n",
      "  FP: GOV LAW ENGLISH HOME CTRY SWEDEN TAX PROVS STANDARD\n",
      "  FN: SWEDEN\n",
      "  FN: ENGLISH\n",
      "Sentence: -- London Newsroom +44 171 542 8863\n",
      "  FP: 171\n",
      "Sentence: Port conditions update - Syria - Lloyds Shipping .\n",
      "  FN: Lloyds Shipping\n",
      "Sentence: LATTAKIA , Aug 10 - waiting time at Lattakia and Tartous presently 24 hours .\n",
      "  FP: 10\n",
      "  FP: Lattakia and Tartous\n",
      "  FP: 24 hours\n",
      "  FN: LATTAKIA\n",
      "  FN: Lattakia\n",
      "  FN: Tartous\n",
      "Sentence: JERUSALEM 1996-08-22\n",
      "  FP: 1996-08-22\n",
      "Sentence: Israel 's outgoing peace negotiator with Syria said on Thursday current tensions between the two countries appeared to be a storm in a teacup .\n",
      "  FP: Thursday\n",
      "  FP: two\n",
      "Sentence: Rabinovich is winding up his term as ambassador .\n",
      "  FN: Rabinovich\n",
      "Sentence: Israel on Wednesday sent Syria a message , via Washington , saying it was committed to peace and wanted to open negotiations without preconditions .\n",
      "  FP: Wednesday\n",
      "Sentence: Syria accused Israel on Wednesday of launching a hysterical campaign against it after Israeli television reported that Damascus had recently test fired a missile .\n",
      "  FP: Wednesday\n",
      "Sentence: \" The message that we sent to ( Syrian President Hafez al- ) Assad is that Israel is ready at any time without preconditions to enter peace negotiations , \" Israeli Foreign Minister David Levy told Israel Radio in an interview .\n",
      "  FP: Hafez\n",
      "  FN: Hafez al-\n",
      "Sentence: Tension has mounted since Israeli Prime Minister Benjamin Netanyahu took office in June vowing to retain the Golan Heights Israel captured from Syria in the 1967 Middle East war .\n",
      "  FP: June\n",
      "  FP: the 1967 Middle East war\n",
      "  FN: Middle East\n",
      "Sentence: Israeli-Syrian peace talks have been deadlocked over the Golan since 1991 despite the previous government 's willingness to make Golan concessions .\n",
      "  FP: 1991\n",
      "Sentence: We do not want a war , God forbid .\n",
      "  FN: God\n",
      "Sentence: The television also said that Netanyahu had sent messages to reassure Syria via Cairo , the United States and Moscow .\n",
      "  FP: the United States\n",
      "  FN: United States\n",
      "Sentence: TUNIS 1996-08-22\n",
      "  FP: 1996-08-22\n",
      "  FN: TUNIS\n",
      "Sentence: A Polish diplomat on Thursday denied a Polish tabloid report this week that Libya was refusing exit visas to 100 Polish nurses trying to return home after working in the North African country .\n",
      "  FP: 100\n",
      "  FP: this week\n",
      "  FP: Thursday\n",
      "Sentence: Up to today , we have no knowledge of any nurse stranded or kept in Libya without her will , and we have not received any complaint , \" the Polish embassy 's charge d'affaires in Tripoli , Tadeusz Awdankiewicz , told Reuters by telephone .\n",
      "  FP: today\n",
      "Sentence: Poland 's labour ministry said this week it would send a team to Libya to investigate , but Awdankiewicz said the probe was prompted by some nurses complaining about their work conditions such as non-payment of their salaries .\n",
      "  FP: this week\n",
      "  FP: labour ministry\n",
      "Sentence: He said that there are an estimated 800 Polish nurses working in Libya .\n",
      "  FP: an estimated 800\n",
      "Sentence: Two Iranian opposition leaders meet in Baghdad .\n",
      "  FP: Two\n",
      "Sentence: BAGHDAD 1996-08-22\n",
      "  FP: 1996-08-22\n",
      "Sentence: An Iranian exile group based in Iraq vowed on Thursday to extend support to Iran 's Kurdish rebels after they were attacked by Iranian troops deep inside Iraq last month .\n",
      "  FP: last month\n",
      "  FP: Thursday\n",
      "Sentence: A Mujahideen Khalq statement said its leader Massoud Rajavi met in Baghdad the Secretary-General of the Kurdistan Democratic Party of Iran ( KDPI ) Hassan Rastegar on Wednesday and voiced his support to Iran 's rebel Kurds .\n",
      "  FP: Wednesday\n",
      "  FP: the Kurdistan Democratic Party of Iran\n",
      "  FN: Kurdistan Democratic Party of Iran\n",
      "  FN: KDPI\n",
      "Sentence: \" Rajavi emphasised that the Iranian Resistance would continue to stand side by side with their Kurdish compatriots and the resistance movement in Iranian Kurdistan , \" it said .\n",
      "  FP: the Iranian Resistance\n",
      "  FN: Iranian\n",
      "  FN: Resistance\n",
      "Sentence: A spokesman for the group said the meeting \" signals a new level of cooperation between Mujahideen Khalq and the Iranian Kurdish oppositions \" .\n",
      "  FP: Kurdish\n",
      "  FP: Iranian\n",
      "  FN: Iranian Kurdish\n",
      "Sentence: Iran heavily bombarded targets in northern Iraq in July in pursuit of KDPI guerrillas based in Iraqi Kurdish areas outside the control of the government in Baghdad .\n",
      "  FP: July\n",
      "  FP: Iraqi\n",
      "  FP: Kurdish\n",
      "  FN: Iraqi Kurdish\n",
      "Sentence: Iraqi Kurdish areas bordering Iran are under the control of guerrillas of the Iraqi Kurdish Patriotic Union of Kurdistan ( PUK ) group .\n",
      "  FP: Kurdish\n",
      "  FP: the Iraqi Kurdish Patriotic Union\n",
      "  FP: Iraqi\n",
      "  FN: Iraqi Kurdish Patriotic Union of Kurdistan\n",
      "  FN: Iraqi Kurdish\n",
      "Sentence: PUK and Iraq 's Kurdistan Democratic Party ( KDP ) the two main Iraqi Kurdish factions , have had northern Iraq under their control since Iraqi forces were ousted from Kuwait in the 1991 Gulf War .\n",
      "  FP: 1991\n",
      "  FP: Kurdish\n",
      "  FP: two\n",
      "  FP: Iraqi\n",
      "  FN: Iraqi Kurdish\n",
      "Sentence: Clashes between the two parties broke out at the weekend in the most serious fighting since a U.S.-sponsored ceasefire last year .\n",
      "  FP: the weekend\n",
      "  FP: two\n",
      "  FP: last year\n",
      "  FN: U.S.-sponsored\n",
      "Sentence: Mujahideen Khalq said Iranian troops had also been shelling KDP positions in Qasri region in Suleimaniya province near the Iranian border over the last two days .\n",
      "  FP: Suleimaniya province\n",
      "  FP: the last two days\n",
      "  FN: KDP\n",
      "  FN: Suleimaniya\n",
      "Sentence: It said about 100 Iraqi Kurds were killed or wounded in the attack .\n",
      "  FP: about 100\n",
      "  FP: Iraqi\n",
      "  FP: Kurds\n",
      "  FN: Iraqi Kurds\n",
      "Sentence: A U.S.-led air force in southern Turkey protects Iraqi Kurds from possible attacks by Baghdad troops .\n",
      "  FP: Kurds\n",
      "  FP: Iraqi\n",
      "  FN: Iraqi Kurds\n",
      "  FN: U.S.-led\n",
      "Sentence: Saudi riyal rates steady in quiet summer trade .\n",
      "  FP: summer\n",
      "Sentence: MANAMA 1996-08-22\n",
      "  FP: 1996-08-22\n",
      "  FN: MANAMA\n",
      "Sentence: The spot Saudi riyal against the dollar and riyal interbank deposit rates were mainly steady this week in quiet summer trade , dealers in the kingdom said .\n",
      "  FP: this week\n",
      "  FP: summer\n",
      "Sentence: One-month interbank deposits were at 5-1/2 , 3/8 percent , three months were 5-5/8 , 1/2 percent and six months were 5-3/4 , 5/8 percent .\n",
      "  FP: 5/8 percent\n",
      "  FP: 5-5/8\n",
      "  FP: 5-3/4\n",
      "  FP: three months\n",
      "  FP: 1/2 percent\n",
      "  FP: 3/8 percent\n",
      "  FP: six months\n",
      "  FP: 5-1/2\n",
      "  FN: One-month\n",
      "Sentence: One-year funds were at six , 5-7/8 percent .\n",
      "  FP: six\n",
      "  FP: 5-7/8 percent\n",
      "  FN: One-year\n",
      "Sentence: JERUSALEM 1996-08-22\n",
      "  FP: 1996-08-22\n",
      "Sentence: Israel gave Palestinian President Yasser Arafat permission on Thursday to fly over its territory to the West Bank , ending a brief Israeli-PLO crisis , an Arafat adviser said .\n",
      "  FP: the West Bank\n",
      "  FP: Thursday\n",
      "  FN: Israeli-PLO\n",
      "  FN: West Bank\n",
      "Sentence: The president 's aircraft has received permission to pass through Israeli airspace but the president is not expected to travel to the West Bank before Monday , \" Nabil Abu Rdainah told Reuters .\n",
      "  FP: the West Bank\n",
      "  FP: Monday\n",
      "  FN: West Bank\n",
      "Sentence: Arafat had been scheduled to meet former Israeli prime minister Shimon Peres in the West Bank town of Ramallah on Thursday but the venue was changed to Gaza after Israel denied flight clearance to the Palestinian leader 's helicopters .\n",
      "  FP: Thursday\n",
      "Sentence: Arafat subsequently cancelled a meeting between Israeli and PLO officials , on civilian affairs , at the Allenby Bridge crossing between Jordan and the West Bank .\n",
      "  FP: the West Bank\n",
      "  FP: the Allenby Bridge\n",
      "  FN: Allenby Bridge\n",
      "  FN: West Bank\n",
      "Sentence: Abu Rdainah said Arafat had decided against flying to the West Bank on Thursday , after Israel lifted the ban , because he had a busy schedule in Gaza and would not be free until Monday .\n",
      "  FP: the West Bank\n",
      "  FP: Thursday\n",
      "  FP: Monday\n",
      "  FN: West Bank\n",
      "Sentence: JERUSALEM 1996-08-22\n",
      "  FP: 1996-08-22\n",
      "Sentence: Yasser Arafat will meet Shimon Peres in Gaza on Thursday after Palestinians said the right-wing Israeli government had barred the Palestinian leader from flying to the West Bank for talks with the former prime minister .\n",
      "  FP: Thursday\n",
      "  FP: the West Bank\n",
      "  FN: West Bank\n",
      "Sentence: Palestinian officials said the Israeli government had barred Arafat from overflying Israel in a Palestinian helicopter to the West Bank in an attempt to bar the meeting with Peres .\n",
      "  FP: the West Bank\n",
      "  FN: West Bank\n",
      "Sentence: Israeli Prime Minister Benjamin Netanyahu has accused opposition leader Peres , who he defeated in May elections , of trying to undermine his Likud government 's authority to conduct peace talks .\n",
      "  FP: May\n",
      "Sentence: Afghan UAE embassy says Taleban guards going home .\n",
      "  FP: Afghan UAE\n",
      "  FN: Afghan\n",
      "  FN: UAE\n",
      "Sentence: DUBAI 1996-08-22\n",
      "  FP: 1996-08-22\n",
      "Sentence: Three Afghan guards brought to the United Arab Emirates last week by Russian hostages who escaped from the Taleban militia will return to Afghanistan in a few days , the Afghan embassy in Abu Dhabi said on Thursday .\n",
      "  FP: Thursday\n",
      "  FP: last week\n",
      "  FP: a few days\n",
      "  FP: Three\n",
      "  FP: the United Arab Emirates\n",
      "  FN: United Arab Emirates\n",
      "Sentence: \" Our ambassador is in touch with the UAE foreign ministry .\n",
      "  FN: UAE\n",
      "Sentence: Their return to Afghanistan will take place in two or three days , \" an embassy official said .\n",
      "  FP: two or three days\n",
      "Sentence: The three Islamic Taleban guards were overpowered by seven Russian aircrew who escaped to UAE state Sharjah last Friday on board their own aircraft after a year in the captivity of Taleban militia in Kandahar in southern Afghanistan .\n",
      "  FP: three\n",
      "  FP: last Friday\n",
      "  FP: Taleban\n",
      "  FP: Islamic\n",
      "  FP: seven\n",
      "  FP: a year\n",
      "  FN: Islamic Taleban\n",
      "Sentence: The UAE said on Monday it would hand over the three to the International Red Crescent , possibly last Tuesday .\n",
      "  FP: three\n",
      "  FP: the International Red Crescent\n",
      "  FP: last Tuesday\n",
      "  FP: Monday\n",
      "  FN: International Red Crescent\n",
      "Sentence: When asked whether the three guards would travel back to Kandahar or the Afghan capital Kabul , the embassy official said : \" That has not been decided , but possibly Kandahar . \"\n",
      "  FP: three\n",
      "Sentence: The embassy official said the three men , believed to be in their 20s , were currently in Abu Dhabi .\n",
      "  FP: three\n",
      "  FP: their 20s\n",
      "Sentence: The Russians , working for the Aerostan firm in the Russian republic of Tatarstan , were taken hostage after a Taleban MiG-19 fighter forced their cargo plane to land in August 1995 .\n",
      "  FP: August 1995\n",
      "  FN: MiG-19\n",
      "Sentence: The Russians , who said they overpowered the guards -- two armed with Kalashnikov automatic rifles -- while doing regular maintenance work on their Ilyushin 76 cargo plane last Friday , left the UAE capital Abu Dhabi for home on Sunday .\n",
      "  FP: last Friday\n",
      "  FP: Sunday\n",
      "  FP: two\n",
      "  FN: Ilyushin 76\n",
      "Sentence: BAGHDAD 1996-08-22\n",
      "  FP: 1996-08-22\n",
      "Sentence: Iraqi President Saddam Hussein has told visiting Russian ultra-nationalist Vladimir Zhirinovsky that Baghdad wanted to maintain \" friendship and cooperation \" with Moscow , official Iraqi newspapers said on Thursday .\n",
      "  FP: Thursday\n",
      "Sentence: They said Zhirinovsky told Saddam before he left Baghdad on Wednesday that his Liberal Democratic party and the Russian Duma ( parliament ) \" are calling for an immediate lifting of the embargo \" imposed on Iraq after its 1990 invasion of Kuwait .\n",
      "  FP: Wednesday\n",
      "  FP: 1990\n",
      "  FP: the Russian Duma\n",
      "  FN: Russian\n",
      "  FN: Duma\n",
      "Sentence: Zhirinovsky said on Tuesday he would press the Russian government to help end U.N. trade sanctions on Iraq and blamed Moscow for delaying establishment of good ties with Baghdad .\n",
      "  FP: Tuesday\n",
      "Sentence: Zhirinovsky visited Iraq twice in 1995 .\n",
      "  FP: 1995\n",
      "Sentence: Last October he was invited to attend the referendum held on Iraq 's presidency , which extended Saddam 's term for seven more years .\n",
      "  FP: seven more years\n",
      "  FP: Last October\n",
      "Sentence: BAGHDAD 1996-08-22\n",
      "  FP: 1996-08-22\n",
      "Sentence: These are some of the leading stories in the official Iraqi press on Thursday .\n",
      "  FP: Thursday\n",
      "Sentence: - Turkish foreign minister says Turkey will take part in the Baghdad trade fair that will be held in November .\n",
      "  FP: November\n",
      "Sentence: - A shipload of 12 tonnes of rice arrives in Umm Qasr port in the Gulf .\n",
      "  FP: 12 tonnes\n",
      "Sentence: BEIRUT 1996-08-22\n",
      "  FP: 1996-08-22\n",
      "  FN: BEIRUT\n",
      "Sentence: These are the leading stories in the Beirut press on Thursday .\n",
      "  FP: Thursday\n",
      "Sentence: AN-NAHAR\n",
      "  FN: AN-NAHAR\n",
      "Sentence: AS-SAFIR\n",
      "  FN: AS-SAFIR\n",
      "Sentence: AL-ANWAR\n",
      "  FN: AL-ANWAR\n",
      "Sentence: - Continued criticism of law violation incidents -- which occurred in the Mount Lebanon elections last Sunday .\n",
      "  FP: last Sunday\n",
      "Sentence: AD-DIYAR\n",
      "  FN: AD-DIYAR\n",
      "Sentence: - Hariri to step into the election battle with an incomplete list .\n",
      "  FN: Hariri\n",
      "Sentence: NIDA'A AL-WATAN\n",
      "  FP: NIDA'A\n",
      "  FN: NIDA'A AL-WATAN\n",
      "Sentence: - Maronite Patriarch Sfeir expressed sorrow over the violations in Sunday ' elections .\n",
      "  FP: Sunday\n",
      "  FN: Maronite\n",
      "  FN: Sfeir\n",
      "Sentence: CHICAGO 1996-08-22\n",
      "  FP: 1996-08-22\n",
      "Sentence: Early calls on CME live and feeder cattle futures ranged from 0.200 cent higher to 0.100 lower , livestock analysts said .\n",
      "  FP: 0.200 cent\n",
      "  FP: 0.100\n",
      "Sentence: KinderCare Learning Centers Inc said on Thursday that a debt buyback would mean an extraordinary loss of $ 1.2 million in its fiscal 1997 first quarter .\n",
      "  FP: $ 1.2 million\n",
      "  FP: its fiscal 1997 first quarter\n",
      "  FP: Thursday\n",
      "Sentence: RESEARCH ALERT - Lehman starts SNET .\n",
      "  FP: SNET\n",
      "  FP: RESEARCH ALERT - Lehman\n",
      "  FN: Lehman\n"
     ]
    }
   ],
   "source": [
    "df = df_train[:500]\n",
    "spans_train_pred = set(pred_spans(df))\n",
    "spans_train_gold = set(gold_spans(df))\n",
    "\n",
    "error_report(df,spans_train_gold,spans_train_pred)\n",
    "\n",
    "# YOUR CODE HERE\n",
    "# raise NotImplementedError()"
   ]
  },
  {
   "cell_type": "markdown",
   "metadata": {
    "deletable": false,
    "nbgrader": {
     "cell_type": "markdown",
     "checksum": "219348824a358db4c99e7388078e3293",
     "grade": true,
     "grade_id": "cell-e4b523a1fe8201ea",
     "locked": false,
     "points": 1,
     "schema_version": 3,
     "solution": true,
     "task": false
    }
   },
   "source": [
    "YOUR ANSWER HERE"
   ]
  },
  {
   "cell_type": "markdown",
   "metadata": {},
   "source": [
    "The prediction here tend to include extra or sometimes less elements than gold label. which makes those prediction pretty close and promising in human's view but addiing both fp and fn at the same time for scoring and ruins the scores result. And it cannot handle numbers and locations well."
   ]
  },
  {
   "cell_type": "markdown",
   "metadata": {},
   "source": [
    "### Task 3.2\n",
    "\n",
    "Now, use the insights from your error analysis to improve the automated prediction that you implemented in Problem&nbsp;2. While the best way to do this would be to [update spaCy&rsquo;s NER model](https://spacy.io/usage/linguistic-features#updating) using domain-specific training data, for this lab it suffices to write code to post-process the output produced by spaCy. To filter out specific labels it is useful to know the named entity label scheme, which can be found in the [model's documentation](https://spacy.io/models/en#en_core_web_sm). You should be able to improve the F1 score from Problem&nbsp;2 by at least 15 percentage points."
   ]
  },
  {
   "cell_type": "code",
   "execution_count": 62,
   "metadata": {},
   "outputs": [
    {
     "name": "stdout",
     "output_type": "stream",
     "text": [
      "LONDON\n",
      "1996-08-30\n",
      "West Indian\n",
      "Phil Simmons\n",
      "four\n",
      "38\n",
      "Friday\n",
      "Leicestershire\n",
      "39\n",
      "two days\n",
      "West Indian\n",
      "Phil Simmons\n",
      "four\n",
      "38\n",
      "Friday\n",
      "Leicestershire\n",
      "39\n",
      "two days\n",
      "West Indian\n",
      "Phil Simmons\n",
      "four\n",
      "38\n",
      "Friday\n",
      "Leicestershire\n",
      "39\n",
      "two days\n"
     ]
    },
    {
     "data": {
      "text/plain": [
       "True"
      ]
     },
     "execution_count": 62,
     "metadata": {},
     "output_type": "execute_result"
    }
   ],
   "source": [
    "#test\n",
    "df = df_dev.head()\n",
    "for row in df.itertuples():\n",
    "    senId = row[1]\n",
    "    sen = row[2]\n",
    "    doc = nlp(sen)\n",
    "    \n",
    "    for ent in doc.ents:\n",
    "        # if \n",
    "        print(ent.text)\n",
    "        # yield (senId, ent.start, ent.end) \n",
    "t = \"123\"\n"
   ]
  },
  {
   "cell_type": "code",
   "execution_count": 303,
   "metadata": {
    "deletable": false,
    "nbgrader": {
     "cell_type": "code",
     "checksum": "a20403014f0241dcde59ade54faf2cac",
     "grade": false,
     "grade_id": "cell-0dc8ed778c02fc71",
     "locked": false,
     "schema_version": 3,
     "solution": true,
     "task": false
    },
    "tags": [
     "solution"
    ]
   },
   "outputs": [],
   "source": [
    "from spacy.tokens import Span\n",
    "import re\n",
    "import calendar\n",
    "def pred_spans_improved(df):\n",
    "    \"\"\"Run and evaluate spaCy's NER, with post-processing to improve the results.\n",
    "\n",
    "    Arguments:\n",
    "        df: A data frame.\n",
    "\n",
    "    Yields:\n",
    "        The predicted mention spans in the specified data frame as\n",
    "        triples consisting of the sentence id, start position, and end\n",
    "        position of each span.\n",
    "    \"\"\"\n",
    "    for row in df.itertuples():\n",
    "        senId = row[1]\n",
    "        sen = row[2]\n",
    "        doc = nlp(sen)\n",
    "        \n",
    "        for ent in doc.ents:\n",
    "            # if ent.text.isnumeric():\n",
    "            #     continue\n",
    "            if re.search(\"\\d\",ent.text) is not None:\n",
    "                continue\n",
    "            if re.match(\".*-.*\",ent.text) is not None:\n",
    "                continue\n",
    "            # if re.match(\".*year.*\",ent.text.lower()) is not None:\n",
    "            #     continue\n",
    "            if any([day.lower() in ent.text.lower() for day in list(calendar.day_name)]):\n",
    "                continue\n",
    "            if any([mon.lower() in ent.text.lower() for mon in list(calendar.month_name)[1:]]):\n",
    "                continue\n",
    "            words = ['one','two','three','four','five','six','seven','eight','nine','ten','year','month','week']\n",
    "            if any([num in ent.text.lower() for num in words]):\n",
    "                continue\n",
    "            start = ent.start\n",
    "            end = ent.end\n",
    "            if re.match(\".*'s$\",ent.text) is not None:\n",
    "                end -= 1\n",
    "            if re.match(\"^the .*\",ent.text.lower()) is not None:\n",
    "                start += 1\n",
    "            yield (senId, start, end)           \n",
    "            \n",
    "\n",
    "\n",
    "    # YOUR CODE HERE\n",
    "    # raise NotImplementedError()"
   ]
  },
  {
   "cell_type": "code",
   "execution_count": 291,
   "metadata": {},
   "outputs": [
    {
     "data": {
      "text/plain": [
       "True"
      ]
     },
     "execution_count": 291,
     "metadata": {},
     "output_type": "execute_result"
    }
   ],
   "source": [
    "#test\n",
    "t = \"European 123Union may 's\"\n",
    "tre =   re.search(\"\\d\",t)\n",
    "\n",
    "tre is not None\n",
    "tre\n",
    "t.isdigit()\n",
    "bool(tre)\n",
    "\n",
    "\"january\" in \"qwe january qwe\"\n",
    "\n",
    "# import calendar\n",
    "# any([i.lower() in t for i in list(calendar.month_name)[1:]])\n",
    "numbers = ['one','two','three','four','five','six','seven','eight','nine','ten']\n",
    "any([num in ent.text.lower() for num in numbers])\n",
    "# set(pred_spans_improved(df_dev.head()))\n",
    "# evaluation_scores(spans_dev_gold, set(pred_spans_improved(df_dev)))\n",
    "# list(calendar.day_name)\n"
   ]
  },
  {
   "cell_type": "code",
   "execution_count": 304,
   "metadata": {},
   "outputs": [
    {
     "name": "stdout",
     "output_type": "stream",
     "text": [
      "[0.9049676025917927, 0.838, 0.8701973001038422]\n",
      "Sentence: \" We do n't support any such recommendation because we do n't see any grounds for it , \" the Commission 's chief spokesman Nikolaus van der Pas told a news briefing .\n",
      "  FP: Nikolaus van der\n",
      "  FP: Pas\n",
      "  FN: Nikolaus van der Pas\n",
      "Sentence: He said a proposal last month by EU Farm Commissioner Franz Fischler to ban sheep brains , spleens and spinal cords from the human and animal food chains was a highly specific and precautionary move to protect human health .\n",
      "  FP: EU Farm\n",
      "  FN: EU\n",
      "Sentence: Fischler proposed EU-wide measures after reports from Britain and France that under laboratory conditions sheep could contract Bovine Spongiform Encephalopathy ( BSE ) -- mad cow disease .\n",
      "  FN: EU-wide\n",
      "Sentence: \" What we have to be extremely careful of is how other countries are going to take Germany 's lead , \" Welsh National Farmers ' Union ( NFU ) chairman John Lloyd Jones said on BBC radio .\n",
      "  FP: BBC\n",
      "  FN: BBC radio\n",
      "  FN: NFU\n",
      "  FN: Welsh National Farmers ' Union\n",
      "  FN: John Lloyd Jones\n",
      "Sentence: Germany imported 47,600 sheep from Britain last year , nearly half of total imports .\n",
      "  FP: nearly half\n",
      "Sentence: Rare Hendrix song draft sells for almost $ 17,000 .\n",
      "  FN: Hendrix\n",
      "Sentence: A Florida restaurant paid 10,925 pounds ( $ 16,935 ) for the draft of \" Ai n't no telling \" , which Hendrix penned on a piece of London hotel stationery in late 1966 .\n",
      "  FN: Ai n't no telling\n",
      "Sentence: Speaking only hours after Chinese state media said the time was right to engage in political talks with Taiwan , Foreign Ministry spokesman Shen Guofang told Reuters : \" The necessary atmosphere for the opening of the talks has been disrupted by the Taiwan authorities . \"\n",
      "  FP: only hours\n",
      "Sentence: Consultations should be held to set the time and format of the talks , the official Xinhua news agency quoted Tang Shubei , executive vice chairman of the Association for Relations Across the Taiwan Straits , as saying late on Wednesday .\n",
      "  FP: Xinhua news agency\n",
      "  FN: Xinhua\n",
      "Sentence: German July car registrations up 14.2 pct yr / yr .\n",
      "  FN: German\n",
      "Sentence: FRANKFURT 1996-08-22\n",
      "  FN: FRANKFURT\n",
      "Sentence: German first-time registrations of motor vehicles jumped 14.2 percent in July this year from the year-earlier period , the Federal office for motor vehicles said on Thursday .\n",
      "  FN: Federal office for motor vehicles\n",
      "Sentence: Volkswagen AG won 77,719 registrations , slightly more than a quarter of the total .\n",
      "  FP: more than a quarter\n",
      "Sentence: Opel AG together with General Motors came in second place with 49,269 registrations , 16.4 percent of the overall figure .\n",
      "  FP: second\n",
      "Sentence: Third was Ford with 35,563 registrations , or 11.7 percent .\n",
      "  FP: Third\n",
      "Sentence: Only Seat and Porsche had fewer registrations in July 1996 compared to last year 's July .\n",
      "  FN: Seat\n",
      "Sentence: Seat posted 3,420 registrations compared with 5522 registrations in July a year earlier .\n",
      "  FN: Seat\n",
      "Sentence: GREEK SOCIALISTS GIVE GREEN LIGHT TO PM FOR ELECTIONS .\n",
      "  FP: TO PM\n",
      "  FN: GREEK\n",
      "Sentence: ATHENS 1996-08-22\n",
      "  FN: ATHENS\n",
      "Sentence: -- Dimitris Kontogiannis , Athens Newsroom +301 3311812-4\n",
      "  FN: Dimitris Kontogiannis\n",
      "Sentence: BayerVB sets C$ 100 million six-year bond .\n",
      "  FN: BayerVB\n",
      "  FN: C$\n",
      "Sentence: BORROWER BAYERISCHE VEREINSBANK\n",
      "  FP: BORROWER\n",
      "  FN: BAYERISCHE VEREINSBANK\n",
      "Sentence: AMT C$ 100 MLN COUPON 6.625 MATURITY 24.SEP.02\n",
      "  FN: C$\n",
      "Sentence: GOV LAW GERMAN HOME CTRY = TAX PROVS STANDARD\n",
      "  FP: GOV LAW GERMAN HOME CTRY = TAX PROVS STANDARD\n",
      "  FN: GERMAN\n",
      "Sentence: NOTES BAYERISCHE VEREINSBANK IS JOINT LEAD MANAGER\n",
      "  FN: BAYERISCHE VEREINSBANK\n",
      "Sentence: Venantius sets $ 300 million January 1999 FRN .\n",
      "  FN: Venantius\n",
      "Sentence: BORROWER VENANTIUS AB ( SWEDISH NATIONAL MORTGAGE AGENCY )\n",
      "  FP: BORROWER VENANTIUS AB\n",
      "  FP: SWEDISH NATIONAL MORTGAGE AGENCY\n",
      "  FN: VENANTIUS AB\n",
      "  FN: SWEDISH\n",
      "Sentence: TYPE FRN BASE 3M LIBOR PAY DATE S23.SEP.96\n",
      "  FN: 3M\n",
      "Sentence: LISTING LONDON DENOMS ( K ) 1-10-100 SALE LIMITS US / UK / JP / FR\n",
      "  FN: JP\n",
      "  FN: FR\n",
      "Sentence: GOV LAW ENGLISH HOME CTRY SWEDEN TAX PROVS STANDARD\n",
      "  FP: GOV LAW ENGLISH HOME CTRY SWEDEN TAX PROVS STANDARD\n",
      "  FN: SWEDEN\n",
      "  FN: ENGLISH\n",
      "Sentence: Port conditions update - Syria - Lloyds Shipping .\n",
      "  FN: Lloyds Shipping\n",
      "Sentence: LATTAKIA , Aug 10 - waiting time at Lattakia and Tartous presently 24 hours .\n",
      "  FP: Lattakia and Tartous\n",
      "  FN: LATTAKIA\n",
      "  FN: Lattakia\n",
      "  FN: Tartous\n",
      "Sentence: Rabinovich is winding up his term as ambassador .\n",
      "  FN: Rabinovich\n",
      "Sentence: He will be replaced by Eliahu Ben-Elissar , a former Israeli envoy to Egypt and right-wing Likud party politician .\n",
      "  FN: Eliahu Ben-Elissar\n",
      "Sentence: \" The message that we sent to ( Syrian President Hafez al- ) Assad is that Israel is ready at any time without preconditions to enter peace negotiations , \" Israeli Foreign Minister David Levy told Israel Radio in an interview .\n",
      "  FP: Hafez\n",
      "  FN: Hafez al-\n",
      "Sentence: Tension has mounted since Israeli Prime Minister Benjamin Netanyahu took office in June vowing to retain the Golan Heights Israel captured from Syria in the 1967 Middle East war .\n",
      "  FN: Golan Heights\n",
      "  FN: Middle East\n",
      "Sentence: Israeli-Syrian peace talks have been deadlocked over the Golan since 1991 despite the previous government 's willingness to make Golan concessions .\n",
      "  FN: Israeli-Syrian\n",
      "Sentence: We do not want a war , God forbid .\n",
      "  FN: God\n",
      "Sentence: Israel 's Channel Two television said Damascus had sent a \" calming signal \" to Israel .\n",
      "  FN: Channel Two\n",
      "Sentence: TUNIS 1996-08-22\n",
      "  FN: TUNIS\n",
      "Sentence: Up to today , we have no knowledge of any nurse stranded or kept in Libya without her will , and we have not received any complaint , \" the Polish embassy 's charge d'affaires in Tripoli , Tadeusz Awdankiewicz , told Reuters by telephone .\n",
      "  FP: today\n",
      "Sentence: Poland 's labour ministry said this week it would send a team to Libya to investigate , but Awdankiewicz said the probe was prompted by some nurses complaining about their work conditions such as non-payment of their salaries .\n",
      "  FP: labour ministry\n",
      "Sentence: A Mujahideen Khalq statement said its leader Massoud Rajavi met in Baghdad the Secretary-General of the Kurdistan Democratic Party of Iran ( KDPI ) Hassan Rastegar on Wednesday and voiced his support to Iran 's rebel Kurds .\n",
      "  FN: KDPI\n",
      "Sentence: \" Rajavi emphasised that the Iranian Resistance would continue to stand side by side with their Kurdish compatriots and the resistance movement in Iranian Kurdistan , \" it said .\n",
      "  FP: Iranian Resistance\n",
      "  FN: Iranian\n",
      "  FN: Resistance\n",
      "Sentence: A spokesman for the group said the meeting \" signals a new level of cooperation between Mujahideen Khalq and the Iranian Kurdish oppositions \" .\n",
      "  FP: Iranian\n",
      "  FP: Kurdish\n",
      "  FN: Iranian Kurdish\n",
      "Sentence: Iran heavily bombarded targets in northern Iraq in July in pursuit of KDPI guerrillas based in Iraqi Kurdish areas outside the control of the government in Baghdad .\n",
      "  FP: Iraqi\n",
      "  FP: Kurdish\n",
      "  FN: Iraqi Kurdish\n",
      "Sentence: Iraqi Kurdish areas bordering Iran are under the control of guerrillas of the Iraqi Kurdish Patriotic Union of Kurdistan ( PUK ) group .\n",
      "  FP: Kurdish\n",
      "  FP: Iraqi Kurdish Patriotic Union\n",
      "  FP: Iraqi\n",
      "  FN: Iraqi Kurdish Patriotic Union of Kurdistan\n",
      "  FN: Iraqi Kurdish\n",
      "Sentence: PUK and Iraq 's Kurdistan Democratic Party ( KDP ) the two main Iraqi Kurdish factions , have had northern Iraq under their control since Iraqi forces were ousted from Kuwait in the 1991 Gulf War .\n",
      "  FP: Iraqi\n",
      "  FP: Kurdish\n",
      "  FN: Iraqi Kurdish\n",
      "Sentence: Clashes between the two parties broke out at the weekend in the most serious fighting since a U.S.-sponsored ceasefire last year .\n",
      "  FN: U.S.-sponsored\n",
      "Sentence: Mujahideen Khalq said Iranian troops had also been shelling KDP positions in Qasri region in Suleimaniya province near the Iranian border over the last two days .\n",
      "  FP: Suleimaniya province\n",
      "  FN: KDP\n",
      "  FN: Suleimaniya\n",
      "Sentence: It said about 100 Iraqi Kurds were killed or wounded in the attack .\n",
      "  FP: Iraqi\n",
      "  FP: Kurds\n",
      "  FN: Iraqi Kurds\n",
      "Sentence: A U.S.-led air force in southern Turkey protects Iraqi Kurds from possible attacks by Baghdad troops .\n",
      "  FP: Kurds\n",
      "  FP: Iraqi\n",
      "  FN: Iraqi Kurds\n",
      "  FN: U.S.-led\n",
      "Sentence: Saudi riyal rates steady in quiet summer trade .\n",
      "  FP: summer\n",
      "Sentence: MANAMA 1996-08-22\n",
      "  FN: MANAMA\n",
      "Sentence: The spot Saudi riyal against the dollar and riyal interbank deposit rates were mainly steady this week in quiet summer trade , dealers in the kingdom said .\n",
      "  FP: summer\n",
      "Sentence: One-month interbank deposits were at 5-1/2 , 3/8 percent , three months were 5-5/8 , 1/2 percent and six months were 5-3/4 , 5/8 percent .\n",
      "  FN: One-month\n",
      "Sentence: One-year funds were at six , 5-7/8 percent .\n",
      "  FN: One-year\n",
      "Sentence: Israel gave Palestinian President Yasser Arafat permission on Thursday to fly over its territory to the West Bank , ending a brief Israeli-PLO crisis , an Arafat adviser said .\n",
      "  FN: Israeli-PLO\n",
      "Sentence: Afghan UAE embassy says Taleban guards going home .\n",
      "  FP: Afghan UAE\n",
      "  FN: Afghan\n",
      "  FN: UAE\n",
      "Sentence: Three Afghan guards brought to the United Arab Emirates last week by Russian hostages who escaped from the Taleban militia will return to Afghanistan in a few days , the Afghan embassy in Abu Dhabi said on Thursday .\n",
      "  FP: a few days\n",
      "Sentence: \" Our ambassador is in touch with the UAE foreign ministry .\n",
      "  FN: UAE\n",
      "Sentence: The three Islamic Taleban guards were overpowered by seven Russian aircrew who escaped to UAE state Sharjah last Friday on board their own aircraft after a year in the captivity of Taleban militia in Kandahar in southern Afghanistan .\n",
      "  FP: Taleban\n",
      "  FP: Islamic\n",
      "  FN: Islamic Taleban\n",
      "Sentence: The Russians , working for the Aerostan firm in the Russian republic of Tatarstan , were taken hostage after a Taleban MiG-19 fighter forced their cargo plane to land in August 1995 .\n",
      "  FN: MiG-19\n",
      "Sentence: The Russians , who said they overpowered the guards -- two armed with Kalashnikov automatic rifles -- while doing regular maintenance work on their Ilyushin 76 cargo plane last Friday , left the UAE capital Abu Dhabi for home on Sunday .\n",
      "  FN: Ilyushin 76\n",
      "Sentence: They said Zhirinovsky told Saddam before he left Baghdad on Wednesday that his Liberal Democratic party and the Russian Duma ( parliament ) \" are calling for an immediate lifting of the embargo \" imposed on Iraq after its 1990 invasion of Kuwait .\n",
      "  FP: Russian Duma\n",
      "  FN: Russian\n",
      "  FN: Duma\n",
      "Sentence: BEIRUT 1996-08-22\n",
      "  FN: BEIRUT\n",
      "Sentence: AN-NAHAR\n",
      "  FN: AN-NAHAR\n",
      "Sentence: AS-SAFIR\n",
      "  FN: AS-SAFIR\n",
      "Sentence: AL-ANWAR\n",
      "  FN: AL-ANWAR\n",
      "Sentence: AD-DIYAR\n",
      "  FN: AD-DIYAR\n",
      "Sentence: - Hariri to step into the election battle with an incomplete list .\n",
      "  FN: Hariri\n",
      "Sentence: NIDA'A AL-WATAN\n",
      "  FP: NIDA'A\n",
      "  FN: NIDA'A AL-WATAN\n",
      "Sentence: - Maronite Patriarch Sfeir expressed sorrow over the violations in Sunday ' elections .\n",
      "  FN: Maronite\n",
      "  FN: Sfeir\n",
      "Sentence: RESEARCH ALERT - Lehman starts SNET .\n",
      "  FP: SNET\n",
      "  FN: Lehman\n"
     ]
    }
   ],
   "source": [
    "#test\n",
    "df = df_train[:500]\n",
    "spans_t_pred = set(pred_spans_improved(df))\n",
    "spans_t_gold = set(gold_spans(df))\n",
    "print(evaluation_scores(spans_t_gold, spans_t_pred))\n",
    "error_report(df,spans_t_gold,spans_t_pred)"
   ]
  },
  {
   "cell_type": "markdown",
   "metadata": {},
   "source": [
    "#### 🤞 Test your code\n",
    "\n",
    "The following cell reports the evaluation measures from the new function and tests if you achieve the performance goal."
   ]
  },
  {
   "cell_type": "code",
   "execution_count": 305,
   "metadata": {
    "deletable": false,
    "editable": false,
    "nbgrader": {
     "cell_type": "code",
     "checksum": "6c399b39793679d0b5f6476fec22442a",
     "grade": true,
     "grade_id": "cell-faf957ffa2d4e385",
     "locked": true,
     "points": 1,
     "schema_version": 3,
     "solution": false,
     "task": false
    },
    "tags": [
     "solution"
    ]
   },
   "outputs": [
    {
     "name": "stdout",
     "output_type": "stream",
     "text": [
      "Precision: 0.879, Recall: 0.729, F1: 0.797\n"
     ]
    },
    {
     "data": {
      "text/html": [
       "<div class=\"alert alert-success\"><strong>Solution appears correct!</strong></div>"
      ],
      "text/plain": [
       "<IPython.core.display.HTML object>"
      ]
     },
     "metadata": {},
     "output_type": "display_data"
    }
   ],
   "source": [
    "scores_old = evaluation_scores(spans_dev_gold, spans_dev_pred)\n",
    "scores_new = evaluation_scores(spans_dev_gold, set(pred_spans_improved(df_dev)))\n",
    "print_evaluation_scores(scores_new)\n",
    "assert scores_new[-1] - scores_old[-1] > .15, \"F1-score should improve by at least 15 percentage points.\"\n",
    "success()"
   ]
  },
  {
   "cell_type": "markdown",
   "metadata": {},
   "source": [
    "### Task 3.3\n",
    "\n",
    "Before moving on, we ask you to store the outputs of the improved named entity recognizer on the development data in a new data frame. This new frame should have the same layout as the original data frame for the development data that you loaded above, but should contain the *predicted* start and end positions for each token span, rather than the gold positions. As the `label` of each span, you can use the special value `--NME--`."
   ]
  },
  {
   "cell_type": "code",
   "execution_count": 191,
   "metadata": {},
   "outputs": [
    {
     "data": {
      "text/html": [
       "<div>\n",
       "<style scoped>\n",
       "    .dataframe tbody tr th:only-of-type {\n",
       "        vertical-align: middle;\n",
       "    }\n",
       "\n",
       "    .dataframe tbody tr th {\n",
       "        vertical-align: top;\n",
       "    }\n",
       "\n",
       "    .dataframe thead th {\n",
       "        text-align: right;\n",
       "    }\n",
       "</style>\n",
       "<table border=\"1\" class=\"dataframe\">\n",
       "  <thead>\n",
       "    <tr style=\"text-align: right;\">\n",
       "      <th></th>\n",
       "      <th>beg</th>\n",
       "      <th>end</th>\n",
       "      <th>label</th>\n",
       "    </tr>\n",
       "  </thead>\n",
       "  <tbody>\n",
       "    <tr>\n",
       "      <th>3752</th>\n",
       "      <td>1</td>\n",
       "      <td>3</td>\n",
       "      <td>André_Joubert</td>\n",
       "    </tr>\n",
       "  </tbody>\n",
       "</table>\n",
       "</div>"
      ],
      "text/plain": [
       "      beg  end          label\n",
       "3752    1    3  André_Joubert"
      ]
     },
     "execution_count": 191,
     "metadata": {},
     "output_type": "execute_result"
    }
   ],
   "source": [
    "#test\n",
    "# t = df_dev.loc[df_dev['sentence_id'] == '0946-000'].iloc[:1,]\n",
    "# t2 = ('1072-007', 13, 19)\n",
    "# t.iloc[:1,2:] = t2[1:]+('test',)\n",
    "# tt = t.copy()\n",
    "# tt\n",
    "# tdf = pd.DataFrame()\n",
    "# tdf = pd.concat([tdf,t])\n",
    "# pd.concat([tdf,t])\n",
    "pred = spans_dev_pred\n",
    "res_df = pd.DataFrame()\n",
    "# for t in pred:\n",
    "#     df_old = df.loc[df_dev['sentence_id'] == t[0]].iloc[:1,]\n",
    "#     df_new = df_old.copy()\n",
    "#     df_new[:1,2:] = t[1:]+('--NME--',)\n",
    "#     res_df = pd.concat([res_df, df_new])\n",
    "df = df_dev\n",
    "list(pred)[0]\n",
    "df_old = df.loc[df_dev['sentence_id'] == t[0]].iloc[:1,]\n",
    "df_new = df_old.copy()\n",
    "df_new.iloc[:1,2:] = t[1:]+('--NME--',)\n"
   ]
  },
  {
   "cell_type": "code",
   "execution_count": 192,
   "metadata": {
    "deletable": false,
    "nbgrader": {
     "cell_type": "code",
     "checksum": "6fccd0d3a35857ebcbfd0f94adc9b34a",
     "grade": false,
     "grade_id": "cell-ef6dfcb92ae20097",
     "locked": false,
     "schema_version": 3,
     "solution": true,
     "task": false
    }
   },
   "outputs": [],
   "source": [
    "def df_with_pred_spans(df):\n",
    "    \"\"\"Make a new DataFrame with *predicted* NER spans.\n",
    "\n",
    "    Arguments:\n",
    "        df: A data frame.\n",
    "\n",
    "    Returns:\n",
    "        A *new* data frame with the same layout as `df`, but containing\n",
    "        the predicted start and end positions for each token span.\n",
    "    \"\"\"\n",
    "    pred = set(pred_spans_improved(df))\n",
    "    res_df = pd.DataFrame()\n",
    "    for t in pred:\n",
    "        df_old = df.loc[df['sentence_id'] == t[0]].iloc[:1,]\n",
    "        df_new = df_old.copy()\n",
    "        df_new.iloc[:1,2:] = t[1:]+('--NME--',)\n",
    "        res_df = pd.concat([res_df, df_new])\n",
    "    return res_df\n",
    "\n",
    "    # YOUR CODE HERE\n",
    "    # raise NotImplementedError()"
   ]
  },
  {
   "cell_type": "markdown",
   "metadata": {},
   "source": [
    "#### 🤞 Test your code\n",
    "\n",
    "Run the following cell to run your function and display the first few lines of the new data frame:"
   ]
  },
  {
   "cell_type": "code",
   "execution_count": 193,
   "metadata": {
    "deletable": false,
    "editable": false,
    "nbgrader": {
     "cell_type": "code",
     "checksum": "de25f655cb9cf074f79d8c7a4df038d4",
     "grade": true,
     "grade_id": "cell-45725442562de561",
     "locked": true,
     "points": 1,
     "schema_version": 3,
     "solution": false,
     "task": false
    },
    "tags": [
     "solution"
    ]
   },
   "outputs": [
    {
     "data": {
      "text/html": [
       "<div>\n",
       "<style scoped>\n",
       "    .dataframe tbody tr th:only-of-type {\n",
       "        vertical-align: middle;\n",
       "    }\n",
       "\n",
       "    .dataframe tbody tr th {\n",
       "        vertical-align: top;\n",
       "    }\n",
       "\n",
       "    .dataframe thead th {\n",
       "        text-align: right;\n",
       "    }\n",
       "</style>\n",
       "<table border=\"1\" class=\"dataframe\">\n",
       "  <thead>\n",
       "    <tr style=\"text-align: right;\">\n",
       "      <th></th>\n",
       "      <th>sentence_id</th>\n",
       "      <th>sentence</th>\n",
       "      <th>beg</th>\n",
       "      <th>end</th>\n",
       "      <th>label</th>\n",
       "    </tr>\n",
       "  </thead>\n",
       "  <tbody>\n",
       "    <tr>\n",
       "      <th>4475</th>\n",
       "      <td>1099-018</td>\n",
       "      <td>Scotland : Andrew Goram , Craig Burley , Thoma...</td>\n",
       "      <td>34</td>\n",
       "      <td>36</td>\n",
       "      <td>--NME--</td>\n",
       "    </tr>\n",
       "    <tr>\n",
       "      <th>852</th>\n",
       "      <td>0966-095</td>\n",
       "      <td>6. Phylis Smith ( Britain ) 52.05</td>\n",
       "      <td>4</td>\n",
       "      <td>5</td>\n",
       "      <td>--NME--</td>\n",
       "    </tr>\n",
       "    <tr>\n",
       "      <th>2850</th>\n",
       "      <td>1051-011</td>\n",
       "      <td>292 Iain Pyman 71 75 75 71 , David Gilford 69 ...</td>\n",
       "      <td>18</td>\n",
       "      <td>19</td>\n",
       "      <td>--NME--</td>\n",
       "    </tr>\n",
       "    <tr>\n",
       "      <th>1203</th>\n",
       "      <td>0978-000</td>\n",
       "      <td>Jones Medical completes acquisition .</td>\n",
       "      <td>0</td>\n",
       "      <td>2</td>\n",
       "      <td>--NME--</td>\n",
       "    </tr>\n",
       "    <tr>\n",
       "      <th>4738</th>\n",
       "      <td>1112-008</td>\n",
       "      <td>Coach Berti Vogts has called up a virtually id...</td>\n",
       "      <td>1</td>\n",
       "      <td>3</td>\n",
       "      <td>--NME--</td>\n",
       "    </tr>\n",
       "  </tbody>\n",
       "</table>\n",
       "</div>"
      ],
      "text/plain": [
       "     sentence_id                                           sentence  beg  end  \\\n",
       "4475    1099-018  Scotland : Andrew Goram , Craig Burley , Thoma...   34   36   \n",
       "852     0966-095                  6. Phylis Smith ( Britain ) 52.05    4    5   \n",
       "2850    1051-011  292 Iain Pyman 71 75 75 71 , David Gilford 69 ...   18   19   \n",
       "1203    0978-000              Jones Medical completes acquisition .    0    2   \n",
       "4738    1112-008  Coach Berti Vogts has called up a virtually id...    1    3   \n",
       "\n",
       "        label  \n",
       "4475  --NME--  \n",
       "852   --NME--  \n",
       "2850  --NME--  \n",
       "1203  --NME--  \n",
       "4738  --NME--  "
      ]
     },
     "metadata": {},
     "output_type": "display_data"
    }
   ],
   "source": [
    "df_dev_pred = df_with_pred_spans(df_dev)\n",
    "display(df_dev_pred.head())"
   ]
  },
  {
   "cell_type": "markdown",
   "metadata": {},
   "source": [
    "## Problem 4: Entity linking"
   ]
  },
  {
   "cell_type": "markdown",
   "metadata": {},
   "source": [
    "Now that we have a method for predicting mention spans, we turn to the task of **entity linking**, which amounts to predicting the knowledge base entity that is referenced by a given mention. In our case, for each span we want to predict the Wikipedia page that this mention references."
   ]
  },
  {
   "cell_type": "markdown",
   "metadata": {},
   "source": [
    "### Task 4.1\n",
    "\n",
    "Start by extending the generator function that you implemented in Task&nbsp;2.1 to labelled spans."
   ]
  },
  {
   "cell_type": "code",
   "execution_count": 194,
   "metadata": {},
   "outputs": [
    {
     "name": "stdout",
     "output_type": "stream",
     "text": [
      "Pandas(Index=0, sentence_id='0946-000', sentence='CRICKET - LEICESTERSHIRE TAKE OVER AT TOP AFTER INNINGS VICTORY .', beg=2, end=3, label='Leicestershire_County_Cricket_Club')\n",
      "Pandas(Index=1, sentence_id='0946-001', sentence='LONDON 1996-08-30', beg=0, end=1, label='London')\n",
      "Pandas(Index=2, sentence_id='0946-002', sentence='West Indian all-rounder Phil Simmons took four for 38 on Friday as Leicestershire beat Somerset by an innings and 39 runs in two days to take over at the head of the county championship .', beg=0, end=2, label='West_Indies_cricket_team')\n",
      "Pandas(Index=3, sentence_id='0946-002', sentence='West Indian all-rounder Phil Simmons took four for 38 on Friday as Leicestershire beat Somerset by an innings and 39 runs in two days to take over at the head of the county championship .', beg=3, end=5, label='Phil_Simmons')\n",
      "Pandas(Index=4, sentence_id='0946-002', sentence='West Indian all-rounder Phil Simmons took four for 38 on Friday as Leicestershire beat Somerset by an innings and 39 runs in two days to take over at the head of the county championship .', beg=12, end=13, label='Leicestershire_County_Cricket_Club')\n"
     ]
    }
   ],
   "source": [
    "#test\n",
    "for row in df.head().itertuples():\n",
    "    print(row)"
   ]
  },
  {
   "cell_type": "code",
   "execution_count": 195,
   "metadata": {
    "deletable": false,
    "nbgrader": {
     "cell_type": "code",
     "checksum": "e1d310571a7ea7d1a9cd36bb33a05742",
     "grade": false,
     "grade_id": "cell-501e0ff440c81adf",
     "locked": false,
     "schema_version": 3,
     "solution": true,
     "task": false
    }
   },
   "outputs": [],
   "source": [
    "def gold_mentions(df):\n",
    "    \"\"\"Yield the gold-standard mentions in a data frame.\n",
    "\n",
    "    Args:\n",
    "        df: A data frame.\n",
    "\n",
    "    Yields:\n",
    "        The gold-standard mention spans in the specified data frame as\n",
    "        quadruples consisting of the sentence id, start position, end\n",
    "        position and entity label of each span.\n",
    "    \"\"\"\n",
    "    for row in df.itertuples():\n",
    "    \n",
    "        yield ((row[1],row[3],row[4],row[5]))\n",
    "    \n",
    "\n",
    "    # YOUR CODE HERE\n",
    "    # raise NotImplementedError()"
   ]
  },
  {
   "cell_type": "markdown",
   "metadata": {},
   "source": [
    "#### 🤞 Test your code\n",
    "\n",
    "To test your code, you can run the following cell, which counts the spans yielded by your function when called on the development data (there should still be 5,917 unique tuples, just as in Task 2.1), and checks if some expected tuples are included in the results."
   ]
  },
  {
   "cell_type": "code",
   "execution_count": 196,
   "metadata": {
    "deletable": false,
    "editable": false,
    "nbgrader": {
     "cell_type": "code",
     "checksum": "be443ddf411eee7a3e5cf3d63c0987f5",
     "grade": true,
     "grade_id": "cell-2cd2cac3e3b80e0b",
     "locked": true,
     "points": 1,
     "schema_version": 3,
     "solution": false,
     "task": false
    },
    "tags": [
     "solution"
    ]
   },
   "outputs": [
    {
     "data": {
      "text/html": [
       "<div class=\"alert alert-success\"><strong>Solution appears correct!</strong></div>"
      ],
      "text/plain": [
       "<IPython.core.display.HTML object>"
      ]
     },
     "metadata": {},
     "output_type": "display_data"
    }
   ],
   "source": [
    "mentions_dev_gold = set(gold_mentions(df_dev))\n",
    "assert len(mentions_dev_gold) == 5917, \"The number of unique returned quadruples should be the same as before.\"\n",
    "assert ('0966-159', 1, 3, '--NME--') in mentions_dev_gold, \"An expected tuple is not included in the results.\"\n",
    "assert ('1094-020', 0, 1, 'Seattle_Mariners') in mentions_dev_gold, \"An expected tuple is not included in the results.\"\n",
    "success()"
   ]
  },
  {
   "cell_type": "markdown",
   "metadata": {},
   "source": [
    "### Task 4.2\n",
    "\n",
    "A naive baseline for entity linking on our data set is to link each mention span to the Wikipedia page name that we get when we join the tokens in the span by underscores, as is standard in Wikipedia page names. Suppose, for example, that a span contains the two tokens\n",
    "\n",
    "    Jimi Hendrix\n",
    "\n",
    "The baseline Wikipedia page name for this span would be\n",
    "\n",
    "    Jimi_Hendrix\n",
    "\n",
    "Implement this naive baseline and evaluate its performance."
   ]
  },
  {
   "cell_type": "markdown",
   "metadata": {},
   "source": [
    "**Here and in the remainder of this lab, you should base your entity predictions on the predicted spans that you computed in Problem&nbsp;3.**"
   ]
  },
  {
   "cell_type": "code",
   "execution_count": 284,
   "metadata": {
    "deletable": false,
    "nbgrader": {
     "cell_type": "code",
     "checksum": "5cf0b2e67d61e514d4fecba722dee65e",
     "grade": false,
     "grade_id": "cell-f24799696158afee",
     "locked": false,
     "schema_version": 3,
     "solution": true,
     "task": false
    },
    "tags": [
     "solution"
    ]
   },
   "outputs": [],
   "source": [
    "def baseline(df):\n",
    "    \"\"\"A naive baseline for entity linking that \"predicts\" Wikipedia\n",
    "       page names from the tokens in the mention span.\n",
    "\n",
    "    Arguments:\n",
    "        df: A data frame.\n",
    "\n",
    "    Yields:\n",
    "        The predicted mention spans in the specified data frame as\n",
    "        quadruples consisting of the sentence id, start position, end\n",
    "        position and the predicted entity label of each span.\n",
    "    \"\"\"\n",
    "    pred = set(pred_spans_improved(df))\n",
    "    for t in pred:\n",
    "        id,beg,end = t\n",
    "        sentence = df.loc[df['sentence_id']== id,'sentence'].iloc[0]\n",
    "        label = '_'.join(sentence.split()[beg:end])\n",
    "        yield t+(label,)\n",
    "\n",
    "\n",
    "    # YOUR CODE HERE\n",
    "    # raise NotImplementedError()"
   ]
  },
  {
   "cell_type": "markdown",
   "metadata": {},
   "source": [
    "#### 🤞 Test your code\n",
    "\n",
    "Again, we can turn to the evaluation measures that we implemented in Problem&nbsp;1.  The expected precision should be around 32%, with an F1-score around 29%."
   ]
  },
  {
   "cell_type": "code",
   "execution_count": 286,
   "metadata": {},
   "outputs": [
    {
     "data": {
      "text/plain": [
       "{('0946-001', 0, 1, 'LONDON'),\n",
       " ('0946-002', 0, 2, 'West_Indian'),\n",
       " ('0946-002', 3, 5, 'Phil_Simmons'),\n",
       " ('0946-002', 6, 7, 'four'),\n",
       " ('0946-002', 12, 13, 'Leicestershire'),\n",
       " ('0946-002', 22, 24, 'two_days')}"
      ]
     },
     "execution_count": 286,
     "metadata": {},
     "output_type": "execute_result"
    }
   ],
   "source": [
    "#test\n",
    "df= df_dev.head()\n",
    "# print(df)\n",
    "set(baseline(df))\n",
    "# rowIdx = (df['sentence_id']== '0946-002')\n",
    "\n",
    "# t = df.loc[df['sentence_id']== '0946-002','sentence'].iloc[0]\n",
    "# t.split()[0:2]\n",
    "# for row in df.itertuples():\n",
    "#     print(((row[1],row[3],row[4],row[5])))\n",
    "#     for ent in doc.ents:\n",
    "#         print('_'.join(str(ent).split()))"
   ]
  },
  {
   "cell_type": "code",
   "execution_count": 306,
   "metadata": {
    "deletable": false,
    "editable": false,
    "nbgrader": {
     "cell_type": "code",
     "checksum": "ad44b65e17247528d718a6ee4cb19ec3",
     "grade": true,
     "grade_id": "cell-e91c4a73987c75ce",
     "locked": true,
     "points": 1,
     "schema_version": 3,
     "solution": false,
     "task": false
    },
    "tags": [
     "solution"
    ]
   },
   "outputs": [
    {
     "name": "stdout",
     "output_type": "stream",
     "text": [
      "Precision: 0.326, Recall: 0.270, F1: 0.296\n"
     ]
    },
    {
     "ename": "AssertionError",
     "evalue": "Precision should be between 31% and 32%.",
     "output_type": "error",
     "traceback": [
      "\u001b[1;31m---------------------------------------------------------------------------\u001b[0m",
      "\u001b[1;31mAssertionError\u001b[0m                            Traceback (most recent call last)",
      "\u001b[1;32mc:\\Users\\ni\\Desktop\\732A81 Text Mining\\2. Lab Sessions\\l4\\TM-Lab4_donni508.ipynb Cell 66\u001b[0m line \u001b[0;36m3\n\u001b[0;32m      <a href='vscode-notebook-cell:/c%3A/Users/ni/Desktop/732A81%20Text%20Mining/2.%20Lab%20Sessions/l4/TM-Lab4_donni508.ipynb#Y114sZmlsZQ%3D%3D?line=0'>1</a>\u001b[0m scores \u001b[39m=\u001b[39m evaluation_scores(mentions_dev_gold, \u001b[39mset\u001b[39m(baseline(df_dev_pred)))\n\u001b[0;32m      <a href='vscode-notebook-cell:/c%3A/Users/ni/Desktop/732A81%20Text%20Mining/2.%20Lab%20Sessions/l4/TM-Lab4_donni508.ipynb#Y114sZmlsZQ%3D%3D?line=1'>2</a>\u001b[0m print_evaluation_scores(scores)\n\u001b[1;32m----> <a href='vscode-notebook-cell:/c%3A/Users/ni/Desktop/732A81%20Text%20Mining/2.%20Lab%20Sessions/l4/TM-Lab4_donni508.ipynb#Y114sZmlsZQ%3D%3D?line=2'>3</a>\u001b[0m \u001b[39massert\u001b[39;00m \u001b[39m.31\u001b[39m \u001b[39m<\u001b[39m scores[\u001b[39m0\u001b[39m] \u001b[39m<\u001b[39m \u001b[39m.32\u001b[39m, \u001b[39m\"\u001b[39m\u001b[39mPrecision should be between 31\u001b[39m\u001b[39m% a\u001b[39;00m\u001b[39mnd 32\u001b[39m\u001b[39m%\u001b[39m\u001b[39m.\u001b[39m\u001b[39m\"\u001b[39m\n\u001b[0;32m      <a href='vscode-notebook-cell:/c%3A/Users/ni/Desktop/732A81%20Text%20Mining/2.%20Lab%20Sessions/l4/TM-Lab4_donni508.ipynb#Y114sZmlsZQ%3D%3D?line=3'>4</a>\u001b[0m \u001b[39massert\u001b[39;00m \u001b[39m.28\u001b[39m \u001b[39m<\u001b[39m scores[\u001b[39m-\u001b[39m\u001b[39m1\u001b[39m] \u001b[39m<\u001b[39m \u001b[39m.29\u001b[39m, \u001b[39m\"\u001b[39m\u001b[39mF1-score should be between 28\u001b[39m\u001b[39m% a\u001b[39;00m\u001b[39mnd 29\u001b[39m\u001b[39m%\u001b[39m\u001b[39m.\u001b[39m\u001b[39m\"\u001b[39m\n\u001b[0;32m      <a href='vscode-notebook-cell:/c%3A/Users/ni/Desktop/732A81%20Text%20Mining/2.%20Lab%20Sessions/l4/TM-Lab4_donni508.ipynb#Y114sZmlsZQ%3D%3D?line=4'>5</a>\u001b[0m \u001b[39m# maybe too strict \u001b[39;00m\n",
      "\u001b[1;31mAssertionError\u001b[0m: Precision should be between 31% and 32%."
     ]
    }
   ],
   "source": [
    "scores = evaluation_scores(mentions_dev_gold, set(baseline(df_dev_pred)))\n",
    "print_evaluation_scores(scores)\n",
    "assert .31 < scores[0] < .32, \"Precision should be between 31% and 32%.\"\n",
    "assert .28 < scores[-1] < .29, \"F1-score should be between 28% and 29%.\"\n",
    "# maybe too strict, implementation of pred_spans_improved() is different\n",
    "success()"
   ]
  },
  {
   "cell_type": "markdown",
   "metadata": {},
   "source": [
    "## Problem 5: Extending the training data using the knowledge base"
   ]
  },
  {
   "cell_type": "markdown",
   "metadata": {},
   "source": [
    "State-of-the-art approaches to entity linking exploit information in knowledge bases. In our case, where Wikipedia is the knowledge base, one particularly useful type of information are links to other Wikipedia pages. In particular, we can interpret the anchor texts (the highlighted texts that you click on) as mentions of the entities (pages) that they link to. This allows us to harvest long lists of mention–entity pairings.\n",
    "\n",
    "The following cell loads a data frame summarizing anchor texts and page references harvested from the first paragraphs of the English Wikipedia. The data frame also contains all entity mentions in the training data (but not the development or the test data)."
   ]
  },
  {
   "cell_type": "code",
   "execution_count": 307,
   "metadata": {
    "deletable": false,
    "editable": false,
    "nbgrader": {
     "cell_type": "code",
     "checksum": "d94a9d6704a04efd335a64af5eff287f",
     "grade": false,
     "grade_id": "cell-4a475ad2cc36d263",
     "locked": true,
     "schema_version": 3,
     "solution": false,
     "task": false
    }
   },
   "outputs": [],
   "source": [
    "with bz2.open('kb.tsv.bz2', 'rt') as source:\n",
    "    df_kb = pd.read_csv(source, sep='\\t', quoting=csv.QUOTE_NONE)"
   ]
  },
  {
   "cell_type": "markdown",
   "metadata": {},
   "source": [
    "To understand what information is available in this data, the following cell shows the entry for the anchor text `Sweden`."
   ]
  },
  {
   "cell_type": "code",
   "execution_count": 308,
   "metadata": {},
   "outputs": [
    {
     "data": {
      "text/html": [
       "<div>\n",
       "<style scoped>\n",
       "    .dataframe tbody tr th:only-of-type {\n",
       "        vertical-align: middle;\n",
       "    }\n",
       "\n",
       "    .dataframe tbody tr th {\n",
       "        vertical-align: top;\n",
       "    }\n",
       "\n",
       "    .dataframe thead th {\n",
       "        text-align: right;\n",
       "    }\n",
       "</style>\n",
       "<table border=\"1\" class=\"dataframe\">\n",
       "  <thead>\n",
       "    <tr style=\"text-align: right;\">\n",
       "      <th></th>\n",
       "      <th>mention</th>\n",
       "      <th>entity</th>\n",
       "      <th>prob</th>\n",
       "    </tr>\n",
       "  </thead>\n",
       "  <tbody>\n",
       "    <tr>\n",
       "      <th>17436</th>\n",
       "      <td>Sweden</td>\n",
       "      <td>Sweden</td>\n",
       "      <td>0.985768</td>\n",
       "    </tr>\n",
       "    <tr>\n",
       "      <th>17437</th>\n",
       "      <td>Sweden</td>\n",
       "      <td>Sweden_national_football_team</td>\n",
       "      <td>0.014173</td>\n",
       "    </tr>\n",
       "    <tr>\n",
       "      <th>17438</th>\n",
       "      <td>Sweden</td>\n",
       "      <td>Sweden_men's_national_ice_hockey_team</td>\n",
       "      <td>0.000059</td>\n",
       "    </tr>\n",
       "  </tbody>\n",
       "</table>\n",
       "</div>"
      ],
      "text/plain": [
       "      mention                                 entity      prob\n",
       "17436  Sweden                                 Sweden  0.985768\n",
       "17437  Sweden          Sweden_national_football_team  0.014173\n",
       "17438  Sweden  Sweden_men's_national_ice_hockey_team  0.000059"
      ]
     },
     "execution_count": 308,
     "metadata": {},
     "output_type": "execute_result"
    }
   ],
   "source": [
    "df_kb.loc[df_kb.mention == 'Sweden']"
   ]
  },
  {
   "cell_type": "markdown",
   "metadata": {},
   "source": [
    "As you can see, each row of the data frame contains a pair $(m, e)$ of a mention $m$ and an entity $e$, as well as the conditional probability $P(e|m)$ for mention $m$ referring to entity $e$. These probabilities were estimated based on the frequencies of mention–entity pairs in the knowledge base. The example shows that the anchor text &lsquo;Sweden&rsquo; is most often used to refer to the entity [Sweden](http://en.wikipedia.org/wiki/Sweden), but in a few cases also to refer to Sweden&rsquo;s national football and ice hockey teams. Note that references are sorted in decreasing order of probability, so that the most probable pairing come first."
   ]
  },
  {
   "cell_type": "markdown",
   "metadata": {},
   "source": [
    "Implement an entity linking method that resolves each mention to the most probable entity in the data frame. If the mention is not included in the data frame, you can predict the generic label `--NME--`."
   ]
  },
  {
   "cell_type": "code",
   "execution_count": 332,
   "metadata": {},
   "outputs": [
    {
     "name": "stdout",
     "output_type": "stream",
     "text": [
      "oops\n",
      "oops\n",
      "oops\n",
      "oops\n"
     ]
    }
   ],
   "source": [
    "#test\n",
    "df = df_dev.head()\n",
    "pred = set(pred_spans_improved(df))\n",
    "for t in pred:\n",
    "    id,beg,end = t\n",
    "    sentence = df.loc[df['sentence_id']== id,'sentence'].iloc[0]\n",
    "    mention = ' '.join(sentence.split()[beg:end])\n",
    "    try:\n",
    "        mention = 'qweqweqwe'\n",
    "        label = df_kb.loc[df_kb.mention == mention, 'entity'].iloc[0]\n",
    "        print(t+(label,))\n",
    "    except:\n",
    "        print('oops')\n",
    "    \n",
    "    # label = '_'.join(sentence.split()[beg:end])\n",
    "    # yield t+(label,)\n"
   ]
  },
  {
   "cell_type": "code",
   "execution_count": 333,
   "metadata": {
    "deletable": false,
    "nbgrader": {
     "cell_type": "code",
     "checksum": "19983681d014c3e1685c0a1b3e44d1a9",
     "grade": false,
     "grade_id": "cell-7ea53f23be9b715c",
     "locked": false,
     "schema_version": 3,
     "solution": true,
     "task": false
    },
    "tags": [
     "solution"
    ]
   },
   "outputs": [],
   "source": [
    "def most_probable_method(df, df_kb):\n",
    "    \"\"\"An entity linker that resolves each mention to the most probably entity in a knowledge base.\n",
    "\n",
    "    Arguments:\n",
    "        df: A data frame containing the mention spans.\n",
    "        df_kb: A data frame containing the knowledge base.\n",
    "\n",
    "    Yields:\n",
    "        The predicted mention spans in the specified data frame as\n",
    "        quadruples consisting of the sentence id, start position, end\n",
    "        position and the predicted entity label of each span.\n",
    "    \"\"\"\n",
    "    pred = set(pred_spans_improved(df))\n",
    "    for t in pred:\n",
    "        id,beg,end = t\n",
    "        sentence = df.loc[df['sentence_id']== id,'sentence'].iloc[0]\n",
    "        mention = ' '.join(sentence.split()[beg:end])\n",
    "        try:\n",
    "            label = df_kb.loc[df_kb.mention == mention, 'entity'].iloc[0]\n",
    "        except:\n",
    "            label = '--NME--'\n",
    "        \n",
    "        yield t+(label,)\n",
    "    \n",
    "\n",
    "    # YOUR CODE HERE\n",
    "    # raise NotImplementedError()"
   ]
  },
  {
   "cell_type": "markdown",
   "metadata": {},
   "source": [
    "### 🤞 Test your code\n",
    "\n",
    "We run the same evaluation as before. The expected precision should now be above 65%, with an F1-score just around 60%."
   ]
  },
  {
   "cell_type": "code",
   "execution_count": 335,
   "metadata": {
    "deletable": false,
    "editable": false,
    "nbgrader": {
     "cell_type": "code",
     "checksum": "e46f9439641cb65e7e66405a9d3dd6e8",
     "grade": true,
     "grade_id": "cell-53f6994f788bb86e",
     "locked": true,
     "points": 1,
     "schema_version": 3,
     "solution": false,
     "task": false
    },
    "tags": [
     "solution"
    ]
   },
   "outputs": [
    {
     "name": "stdout",
     "output_type": "stream",
     "text": [
      "Precision: 0.675, Recall: 0.560, F1: 0.612\n"
     ]
    },
    {
     "ename": "AssertionError",
     "evalue": "F1-score should be around 60%.",
     "output_type": "error",
     "traceback": [
      "\u001b[1;31m---------------------------------------------------------------------------\u001b[0m",
      "\u001b[1;31mAssertionError\u001b[0m                            Traceback (most recent call last)",
      "\u001b[1;32mc:\\Users\\ni\\Desktop\\732A81 Text Mining\\2. Lab Sessions\\l4\\TM-Lab4_donni508.ipynb Cell 77\u001b[0m line \u001b[0;36m4\n\u001b[0;32m      <a href='vscode-notebook-cell:/c%3A/Users/ni/Desktop/732A81%20Text%20Mining/2.%20Lab%20Sessions/l4/TM-Lab4_donni508.ipynb#Y130sZmlsZQ%3D%3D?line=1'>2</a>\u001b[0m print_evaluation_scores(scores)\n\u001b[0;32m      <a href='vscode-notebook-cell:/c%3A/Users/ni/Desktop/732A81%20Text%20Mining/2.%20Lab%20Sessions/l4/TM-Lab4_donni508.ipynb#Y130sZmlsZQ%3D%3D?line=2'>3</a>\u001b[0m \u001b[39massert\u001b[39;00m scores[\u001b[39m0\u001b[39m] \u001b[39m>\u001b[39m \u001b[39m.65\u001b[39m, \u001b[39m\"\u001b[39m\u001b[39mPrecision should be above 65\u001b[39m\u001b[39m%\u001b[39m\u001b[39m.\u001b[39m\u001b[39m\"\u001b[39m\n\u001b[1;32m----> <a href='vscode-notebook-cell:/c%3A/Users/ni/Desktop/732A81%20Text%20Mining/2.%20Lab%20Sessions/l4/TM-Lab4_donni508.ipynb#Y130sZmlsZQ%3D%3D?line=3'>4</a>\u001b[0m \u001b[39massert\u001b[39;00m \u001b[39m.59\u001b[39m \u001b[39m<\u001b[39m scores[\u001b[39m-\u001b[39m\u001b[39m1\u001b[39m] \u001b[39m<\u001b[39m \u001b[39m.61\u001b[39m, \u001b[39m\"\u001b[39m\u001b[39mF1-score should be around 60\u001b[39m\u001b[39m%\u001b[39m\u001b[39m.\u001b[39m\u001b[39m\"\u001b[39m\n\u001b[0;32m      <a href='vscode-notebook-cell:/c%3A/Users/ni/Desktop/732A81%20Text%20Mining/2.%20Lab%20Sessions/l4/TM-Lab4_donni508.ipynb#Y130sZmlsZQ%3D%3D?line=4'>5</a>\u001b[0m success()\n",
      "\u001b[1;31mAssertionError\u001b[0m: F1-score should be around 60%."
     ]
    }
   ],
   "source": [
    "scores = evaluation_scores(mentions_dev_gold, set(most_probable_method(df_dev_pred, df_kb)))\n",
    "print_evaluation_scores(scores)\n",
    "assert scores[0] > .65, \"Precision should be above 65%.\"\n",
    "assert .59 < scores[-1] < .61, \"F1-score should be around 60%.\"\n",
    "# again\n",
    "success()"
   ]
  },
  {
   "cell_type": "markdown",
   "metadata": {},
   "source": [
    "## Problem 6: Context-sensitive disambiguation"
   ]
  },
  {
   "cell_type": "markdown",
   "metadata": {},
   "source": [
    "Consider the entity mention &lsquo;Lincoln&rsquo;. The most probable entity for this mention turns out to be [Lincoln, Nebraska](http://en.wikipedia.org/Lincoln,_Nebraska); but in pages about American history, we would be better off to predict [Abraham Lincoln](http://en.wikipedia.org/Abraham_Lincoln). This suggests that we should try to disambiguate between different entity references based on the textual context on the page from which the mention was taken. Your task in this last problem is to implement this idea.\n",
    "\n",
    "Set up a dictionary that contains, for each mention $m$ that can refer to more than one entity $e$, a separate Naive Bayes classifier that is trained to predict the correct entity $e$, given the textual context of the mention. As the prior probabilities of the classifier, choose the probabilities $P(e|m)$ that you used in Problem&nbsp;5. To let you estimate the context-specific probabilities, we have compiled a data set with mention contexts:"
   ]
  },
  {
   "cell_type": "code",
   "execution_count": 339,
   "metadata": {
    "deletable": false,
    "editable": false,
    "nbgrader": {
     "cell_type": "code",
     "checksum": "6f3ddc8258b269f76f3ce95612ec168f",
     "grade": false,
     "grade_id": "cell-bc440951a642c773",
     "locked": true,
     "schema_version": 3,
     "solution": false,
     "task": false
    }
   },
   "outputs": [],
   "source": [
    "with bz2.open('contexts.tsv.bz2') as source:\n",
    "    df_contexts = pd.read_csv(source, sep='\\t', quoting=csv.QUOTE_NONE)"
   ]
  },
  {
   "cell_type": "markdown",
   "metadata": {},
   "source": [
    "This data frame contains, for each ambiguous mention $m$ and each knowledge base entity $e$ to which this mention can refer, up to 100 randomly selected contexts in which $m$ is used to refer to $e$. For this data, a **context** is defined as the 5 tokens to the left and the 5 tokens to the right of the mention. Here are a few examples:"
   ]
  },
  {
   "cell_type": "code",
   "execution_count": 337,
   "metadata": {},
   "outputs": [
    {
     "data": {
      "text/html": [
       "<div>\n",
       "<style scoped>\n",
       "    .dataframe tbody tr th:only-of-type {\n",
       "        vertical-align: middle;\n",
       "    }\n",
       "\n",
       "    .dataframe tbody tr th {\n",
       "        vertical-align: top;\n",
       "    }\n",
       "\n",
       "    .dataframe thead th {\n",
       "        text-align: right;\n",
       "    }\n",
       "</style>\n",
       "<table border=\"1\" class=\"dataframe\">\n",
       "  <thead>\n",
       "    <tr style=\"text-align: right;\">\n",
       "      <th></th>\n",
       "      <th>mention</th>\n",
       "      <th>entity</th>\n",
       "      <th>context</th>\n",
       "    </tr>\n",
       "  </thead>\n",
       "  <tbody>\n",
       "    <tr>\n",
       "      <th>0</th>\n",
       "      <td>1970</td>\n",
       "      <td>UEFA_Champions_League</td>\n",
       "      <td>Cup twice the first in @ and the second in 1983</td>\n",
       "    </tr>\n",
       "    <tr>\n",
       "      <th>1</th>\n",
       "      <td>1970</td>\n",
       "      <td>FIFA_World_Cup</td>\n",
       "      <td>America 1975 and during the @ and 1978 World C...</td>\n",
       "    </tr>\n",
       "    <tr>\n",
       "      <th>2</th>\n",
       "      <td>1990 World Cup</td>\n",
       "      <td>1990_FIFA_World_Cup</td>\n",
       "      <td>Manolo represented Spain at the @</td>\n",
       "    </tr>\n",
       "    <tr>\n",
       "      <th>3</th>\n",
       "      <td>1990 World Cup</td>\n",
       "      <td>1990_FIFA_World_Cup</td>\n",
       "      <td>Hašek represented Czechoslovakia at the @ and ...</td>\n",
       "    </tr>\n",
       "    <tr>\n",
       "      <th>4</th>\n",
       "      <td>1990 World Cup</td>\n",
       "      <td>1990_FIFA_World_Cup</td>\n",
       "      <td>renovations in 1989 for the @ The present capa...</td>\n",
       "    </tr>\n",
       "  </tbody>\n",
       "</table>\n",
       "</div>"
      ],
      "text/plain": [
       "          mention                 entity  \\\n",
       "0            1970  UEFA_Champions_League   \n",
       "1            1970         FIFA_World_Cup   \n",
       "2  1990 World Cup    1990_FIFA_World_Cup   \n",
       "3  1990 World Cup    1990_FIFA_World_Cup   \n",
       "4  1990 World Cup    1990_FIFA_World_Cup   \n",
       "\n",
       "                                             context  \n",
       "0    Cup twice the first in @ and the second in 1983  \n",
       "1  America 1975 and during the @ and 1978 World C...  \n",
       "2                 Manolo represented Spain at the @   \n",
       "3  Hašek represented Czechoslovakia at the @ and ...  \n",
       "4  renovations in 1989 for the @ The present capa...  "
      ]
     },
     "execution_count": 337,
     "metadata": {},
     "output_type": "execute_result"
    }
   ],
   "source": [
    "df_contexts.head()"
   ]
  },
  {
   "cell_type": "markdown",
   "metadata": {},
   "source": [
    "Note that, in each context, the position of the mention is indicated by the `@` symbol.\n",
    "\n",
    "From this data frame, it is easy to select the data that you need to train the classifiers – the contexts and corresponding entities for all mentions. To illustrate this, the following cell shows how to select all contexts that belong to the mention &lsquo;Lincoln&rsquo;:"
   ]
  },
  {
   "cell_type": "code",
   "execution_count": 338,
   "metadata": {},
   "outputs": [
    {
     "data": {
      "text/plain": [
       "41465    Nebraska Concealed Handgun Permit In @ municip...\n",
       "41466    Lazlo restaurants are located in @ and Omaha C...\n",
       "41467    California Washington Overland Park Kansas @ N...\n",
       "41468    City Missouri Omaha Nebraska and @ Nebraska It...\n",
       "41469    by Sandhills Publishing Company in @ Nebraska USA\n",
       "                               ...                        \n",
       "41609                                      @ Leyton Orient\n",
       "41610                    English division three Swansea @ \n",
       "41611    league membership narrowly edging out @ on goa...\n",
       "41612                                          @ Cambridge\n",
       "41613                                                   @ \n",
       "Name: context, Length: 149, dtype: object"
      ]
     },
     "execution_count": 338,
     "metadata": {},
     "output_type": "execute_result"
    }
   ],
   "source": [
    "df_contexts.context[df_contexts.mention == 'Lincoln']"
   ]
  },
  {
   "cell_type": "markdown",
   "metadata": {},
   "source": [
    "Implement the context-sensitive disambiguation method and evaluate its performance.  Do this in two parts, first implementing a function that builds the classifiers _(refer to the text above for a detailed description)_, then implementing a prediction function that uses these classifiers to perform the entity prediction.\n",
    "\n",
    "Here are some more **hints** that may help you along the way:\n",
    "\n",
    "1. The prior probabilities for a Naive Bayes classifier can be specified using the `class_prior` option. You will have to provide the probabilities in the same order as the alphabetically sorted class (entity) names.\n",
    "\n",
    "2. Not all mentions in the knowledge base are ambiguous, and therefore not all mentions have context data. If a mention has only one possible entity, pick that one. If a mention has no entity at all, predict the `--NME--` label."
   ]
  },
  {
   "cell_type": "code",
   "execution_count": 356,
   "metadata": {},
   "outputs": [
    {
     "data": {
      "text/html": [
       "<style>#sk-container-id-2 {color: black;}#sk-container-id-2 pre{padding: 0;}#sk-container-id-2 div.sk-toggleable {background-color: white;}#sk-container-id-2 label.sk-toggleable__label {cursor: pointer;display: block;width: 100%;margin-bottom: 0;padding: 0.3em;box-sizing: border-box;text-align: center;}#sk-container-id-2 label.sk-toggleable__label-arrow:before {content: \"▸\";float: left;margin-right: 0.25em;color: #696969;}#sk-container-id-2 label.sk-toggleable__label-arrow:hover:before {color: black;}#sk-container-id-2 div.sk-estimator:hover label.sk-toggleable__label-arrow:before {color: black;}#sk-container-id-2 div.sk-toggleable__content {max-height: 0;max-width: 0;overflow: hidden;text-align: left;background-color: #f0f8ff;}#sk-container-id-2 div.sk-toggleable__content pre {margin: 0.2em;color: black;border-radius: 0.25em;background-color: #f0f8ff;}#sk-container-id-2 input.sk-toggleable__control:checked~div.sk-toggleable__content {max-height: 200px;max-width: 100%;overflow: auto;}#sk-container-id-2 input.sk-toggleable__control:checked~label.sk-toggleable__label-arrow:before {content: \"▾\";}#sk-container-id-2 div.sk-estimator input.sk-toggleable__control:checked~label.sk-toggleable__label {background-color: #d4ebff;}#sk-container-id-2 div.sk-label input.sk-toggleable__control:checked~label.sk-toggleable__label {background-color: #d4ebff;}#sk-container-id-2 input.sk-hidden--visually {border: 0;clip: rect(1px 1px 1px 1px);clip: rect(1px, 1px, 1px, 1px);height: 1px;margin: -1px;overflow: hidden;padding: 0;position: absolute;width: 1px;}#sk-container-id-2 div.sk-estimator {font-family: monospace;background-color: #f0f8ff;border: 1px dotted black;border-radius: 0.25em;box-sizing: border-box;margin-bottom: 0.5em;}#sk-container-id-2 div.sk-estimator:hover {background-color: #d4ebff;}#sk-container-id-2 div.sk-parallel-item::after {content: \"\";width: 100%;border-bottom: 1px solid gray;flex-grow: 1;}#sk-container-id-2 div.sk-label:hover label.sk-toggleable__label {background-color: #d4ebff;}#sk-container-id-2 div.sk-serial::before {content: \"\";position: absolute;border-left: 1px solid gray;box-sizing: border-box;top: 0;bottom: 0;left: 50%;z-index: 0;}#sk-container-id-2 div.sk-serial {display: flex;flex-direction: column;align-items: center;background-color: white;padding-right: 0.2em;padding-left: 0.2em;position: relative;}#sk-container-id-2 div.sk-item {position: relative;z-index: 1;}#sk-container-id-2 div.sk-parallel {display: flex;align-items: stretch;justify-content: center;background-color: white;position: relative;}#sk-container-id-2 div.sk-item::before, #sk-container-id-2 div.sk-parallel-item::before {content: \"\";position: absolute;border-left: 1px solid gray;box-sizing: border-box;top: 0;bottom: 0;left: 50%;z-index: -1;}#sk-container-id-2 div.sk-parallel-item {display: flex;flex-direction: column;z-index: 1;position: relative;background-color: white;}#sk-container-id-2 div.sk-parallel-item:first-child::after {align-self: flex-end;width: 50%;}#sk-container-id-2 div.sk-parallel-item:last-child::after {align-self: flex-start;width: 50%;}#sk-container-id-2 div.sk-parallel-item:only-child::after {width: 0;}#sk-container-id-2 div.sk-dashed-wrapped {border: 1px dashed gray;margin: 0 0.4em 0.5em 0.4em;box-sizing: border-box;padding-bottom: 0.4em;background-color: white;}#sk-container-id-2 div.sk-label label {font-family: monospace;font-weight: bold;display: inline-block;line-height: 1.2em;}#sk-container-id-2 div.sk-label-container {text-align: center;}#sk-container-id-2 div.sk-container {/* jupyter's `normalize.less` sets `[hidden] { display: none; }` but bootstrap.min.css set `[hidden] { display: none !important; }` so we also need the `!important` here to be able to override the default hidden behavior on the sphinx rendered scikit-learn.org. See: https://github.com/scikit-learn/scikit-learn/issues/21755 */display: inline-block !important;position: relative;}#sk-container-id-2 div.sk-text-repr-fallback {display: none;}</style><div id=\"sk-container-id-2\" class=\"sk-top-container\"><div class=\"sk-text-repr-fallback\"><pre>Pipeline(steps=[(&#x27;Vectorizer&#x27;, CountVectorizer()),\n",
       "                (&#x27;classifier&#x27;,\n",
       "                 MultinomialNB(class_prior=array([1.04609805e-04, 1.85972987e-04, 2.09219611e-04, ...,\n",
       "       1.55752377e-03, 3.02206105e-04, 1.16233117e-05])))])</pre><b>In a Jupyter environment, please rerun this cell to show the HTML representation or trust the notebook. <br />On GitHub, the HTML representation is unable to render, please try loading this page with nbviewer.org.</b></div><div class=\"sk-container\" hidden><div class=\"sk-item sk-dashed-wrapped\"><div class=\"sk-label-container\"><div class=\"sk-label sk-toggleable\"><input class=\"sk-toggleable__control sk-hidden--visually\" id=\"sk-estimator-id-4\" type=\"checkbox\" ><label for=\"sk-estimator-id-4\" class=\"sk-toggleable__label sk-toggleable__label-arrow\">Pipeline</label><div class=\"sk-toggleable__content\"><pre>Pipeline(steps=[(&#x27;Vectorizer&#x27;, CountVectorizer()),\n",
       "                (&#x27;classifier&#x27;,\n",
       "                 MultinomialNB(class_prior=array([1.04609805e-04, 1.85972987e-04, 2.09219611e-04, ...,\n",
       "       1.55752377e-03, 3.02206105e-04, 1.16233117e-05])))])</pre></div></div></div><div class=\"sk-serial\"><div class=\"sk-item\"><div class=\"sk-estimator sk-toggleable\"><input class=\"sk-toggleable__control sk-hidden--visually\" id=\"sk-estimator-id-5\" type=\"checkbox\" ><label for=\"sk-estimator-id-5\" class=\"sk-toggleable__label sk-toggleable__label-arrow\">CountVectorizer</label><div class=\"sk-toggleable__content\"><pre>CountVectorizer()</pre></div></div></div><div class=\"sk-item\"><div class=\"sk-estimator sk-toggleable\"><input class=\"sk-toggleable__control sk-hidden--visually\" id=\"sk-estimator-id-6\" type=\"checkbox\" ><label for=\"sk-estimator-id-6\" class=\"sk-toggleable__label sk-toggleable__label-arrow\">MultinomialNB</label><div class=\"sk-toggleable__content\"><pre>MultinomialNB(class_prior=array([1.04609805e-04, 1.85972987e-04, 2.09219611e-04, ...,\n",
       "       1.55752377e-03, 3.02206105e-04, 1.16233117e-05]))</pre></div></div></div></div></div></div></div>"
      ],
      "text/plain": [
       "Pipeline(steps=[('Vectorizer', CountVectorizer()),\n",
       "                ('classifier',\n",
       "                 MultinomialNB(class_prior=array([1.04609805e-04, 1.85972987e-04, 2.09219611e-04, ...,\n",
       "       1.55752377e-03, 3.02206105e-04, 1.16233117e-05])))])"
      ]
     },
     "execution_count": 356,
     "metadata": {},
     "output_type": "execute_result"
    }
   ],
   "source": [
    "from sklearn.feature_extraction.text import CountVectorizer\n",
    "from sklearn.naive_bayes import MultinomialNB\n",
    "from sklearn.pipeline import make_pipeline\n",
    "from sklearn.pipeline import Pipeline\n",
    "from sklearn.metrics import classification_report\n",
    "count = df_contexts.groupby(['entity']).count().context\n",
    "prior = np.asarray(count/sum(count))\n",
    "clfMNB = Pipeline([('Vectorizer',CountVectorizer()),('classifier',MultinomialNB(class_prior = prior))] )\n",
    "clfMNB.fit(df_contexts[\"context\"],  df_contexts[\"entity\"])\n",
    "# print(classification_report(df_contexts[\"entity\"], clfMNB.predict(df_contexts[\"context\"])))"
   ]
  },
  {
   "cell_type": "code",
   "execution_count": 359,
   "metadata": {},
   "outputs": [
    {
     "data": {
      "text/plain": [
       "0        UEFA_Champions_League\n",
       "1               FIFA_World_Cup\n",
       "2          1990_FIFA_World_Cup\n",
       "3          1990_FIFA_World_Cup\n",
       "4          1990_FIFA_World_Cup\n",
       "                 ...          \n",
       "86029            Western_world\n",
       "86030            Western_world\n",
       "86031            North_America\n",
       "86032            West_Virginia\n",
       "86033        Western_Australia\n",
       "Name: entity, Length: 86034, dtype: object"
      ]
     },
     "execution_count": 359,
     "metadata": {},
     "output_type": "execute_result"
    }
   ],
   "source": [
    "clfMNB.predict(df_kb[\"context\"])"
   ]
  },
  {
   "cell_type": "code",
   "execution_count": null,
   "metadata": {
    "deletable": false,
    "nbgrader": {
     "cell_type": "code",
     "checksum": "2f1ed748e347ab8c43e2d352ed183728",
     "grade": false,
     "grade_id": "cell-22e330f1b6937c8d",
     "locked": false,
     "schema_version": 3,
     "solution": true,
     "task": false
    },
    "tags": [
     "solution"
    ]
   },
   "outputs": [],
   "source": [
    "\n",
    "def build_entity_classifiers(df_kb, df_contexts):\n",
    "    \"\"\"Build Naive Bayes classifiers for entity prediction.\n",
    "\n",
    "    Arguments:\n",
    "        df_kb: A data frame with the knowledge base.\n",
    "        df_contexts: A data frame with contexts for each mention.\n",
    "\n",
    "    Returns:\n",
    "        A dictionary where the keys are mentions and the values are Naive Bayes\n",
    "        classifiers trained to predict the correct entity, given the textual\n",
    "        context of the mention (as described in detail above).\n",
    "    \"\"\"\n",
    "    count = df_contexts.groupby(['entity']).count().context\n",
    "    prior = np.asarray(count/sum(count))\n",
    "    clfMNB = Pipeline([('Vectorizer',CountVectorizer()),('classifier',MultinomialNB(class_prior = prior))] )\n",
    "    clfMNB.fit(df_contexts[\"context\"],  df_contexts[\"entity\"])\n",
    "\n",
    "    # YOUR CODE HERE\n",
    "    # raise NotImplementedError()"
   ]
  },
  {
   "cell_type": "code",
   "execution_count": null,
   "metadata": {
    "deletable": false,
    "nbgrader": {
     "cell_type": "code",
     "checksum": "de0ba0c98997839dd51d4905d52531b5",
     "grade": false,
     "grade_id": "cell-045c73fff60f8fbf",
     "locked": false,
     "schema_version": 3,
     "solution": true,
     "task": false
    },
    "tags": [
     "solution"
    ]
   },
   "outputs": [],
   "source": [
    "def extended_dictionary_method(df, classifiers, df_kb):\n",
    "    \"\"\"An entity linker that resolves each mention to the most probably entity in a knowledge base.\n",
    "\n",
    "    Arguments:\n",
    "        df: A data frame containing the mention spans.\n",
    "        classifiers: A dictionary of classifiers as produced by the\n",
    "            `build_entity_classifiers` function.\n",
    "        df_kb: A data frame with the knowledge base. (Should be used\n",
    "            to look up a mention if it doesn't have a classifier.)\n",
    "\n",
    "    Yields:\n",
    "        The predicted mention spans in the specified data frame as\n",
    "        quadruples consisting of the sentence id, start position, end\n",
    "        position and the predicted entity label of each span.\n",
    "    \"\"\"\n",
    "    # YOUR CODE HERE\n",
    "    raise NotImplementedError()"
   ]
  },
  {
   "cell_type": "markdown",
   "metadata": {},
   "source": [
    "### 🤞 Test your code\n",
    "\n",
    "The cell below shows how your functions should all come together."
   ]
  },
  {
   "cell_type": "code",
   "execution_count": null,
   "metadata": {
    "deletable": false,
    "editable": false,
    "nbgrader": {
     "cell_type": "code",
     "checksum": "7f8ef55cdf1d2eb45704c4bb9718378c",
     "grade": true,
     "grade_id": "cell-dda4aa4e70cd83fb",
     "locked": true,
     "points": 1,
     "schema_version": 3,
     "solution": false,
     "task": false
    }
   },
   "outputs": [],
   "source": [
    "classifiers = build_entity_classifiers(df_kb, df_contexts)\n",
    "mentions_dev_pred_dictionary = set(extended_dictionary_method(df_dev_pred, classifiers, df_kb))"
   ]
  },
  {
   "cell_type": "markdown",
   "metadata": {},
   "source": [
    "Finally, the cell below evaluates the results as before. You should expect to see a small (around 1&nbsp;unit) increase in each of precision, recall, and F1."
   ]
  },
  {
   "cell_type": "code",
   "execution_count": null,
   "metadata": {
    "deletable": false,
    "editable": false,
    "nbgrader": {
     "cell_type": "code",
     "checksum": "f90d46c48c1c5adc21534b8e7bac0074",
     "grade": true,
     "grade_id": "cell-ddde598c1d1aff97",
     "locked": true,
     "points": 1,
     "schema_version": 3,
     "solution": false,
     "task": false
    },
    "tags": [
     "solution"
    ]
   },
   "outputs": [],
   "source": [
    "scores = evaluation_scores(mentions_dev_gold, mentions_dev_pred_dictionary)\n",
    "print_evaluation_scores(scores)\n",
    "assert scores[0] > .67, \"Precision should be above 67%.\"\n",
    "assert scores[-1] > .61, \"F1-score should be above 61%.\"\n",
    "success()"
   ]
  },
  {
   "cell_type": "markdown",
   "id": "125ccdbd-4375-4d2f-8b1d-f47097ef2e84",
   "metadata": {},
   "source": [
    "**Congratulations on finishing this lab! 👍**\n",
    "\n",
    "<div class=\"alert alert-info\">\n",
    "    \n",
    "➡️ Don't forget to **test that everything runs as expected** before you submit!\n",
    "\n",
    "</div>"
   ]
  }
 ],
 "metadata": {
  "kernelspec": {
   "display_name": "Python 3 (ipykernel)",
   "language": "python",
   "name": "python3"
  },
  "language_info": {
   "codemirror_mode": {
    "name": "ipython",
    "version": 3
   },
   "file_extension": ".py",
   "mimetype": "text/x-python",
   "name": "python",
   "nbconvert_exporter": "python",
   "pygments_lexer": "ipython3",
   "version": "3.11.6"
  }
 },
 "nbformat": 4,
 "nbformat_minor": 4
}
