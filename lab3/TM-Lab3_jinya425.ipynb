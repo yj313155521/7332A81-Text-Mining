{
 "cells": [
  {
   "cell_type": "markdown",
   "metadata": {},
   "source": [
    "<div class=\"alert alert-info\">\n",
    "    \n",
    "➡️ Make sure that you have read the **[rules for hand-in assignments](https://www.ida.liu.se/~TDDE16/exam.en.shtml#handins)** and the **[policy on cheating and plagiarism](https://www.ida.liu.se/~TDDE16/exam.en.shtml#cheating)** before starting with this lab.\n",
    "\n",
    "➡️ Make sure you fill in any cells (and _only_ those cells) that say **`YOUR CODE HERE`** or **YOUR ANSWER HERE**, and do _not_ modify any of the other cells.\n",
    "\n",
    "➡️ **Before you submit your lab, make sure everything runs as expected.** For this, _restart the kernel_ and _run all cells_ from top to bottom. In Jupyter Notebook version 7 or higher, you can do this via \"Run$\\rightarrow$Restart Kernel and Run All Cells...\" in the menu (or the \"⏩\" button in the toolbar).\n",
    "\n",
    "</div>"
   ]
  },
  {
   "cell_type": "markdown",
   "metadata": {},
   "source": [
    "# L3: Text clustering and topic modelling"
   ]
  },
  {
   "cell_type": "markdown",
   "metadata": {},
   "source": [
    "Text clustering groups documents in such a way that documents within a group are more &lsquo;similar&rsquo; to other documents in the cluster than to documents not in the cluster. The exact definition of what &lsquo;similar&rsquo; means in this context varies across applications and clustering algorithms.\n",
    "\n",
    "In this lab you will experiment with both hard and soft clustering techniques. More specifically, in the first part you will be using the $k$-means algorithm, and in the second part you will be using a topic model based on the Latent Dirichlet Allocation (LDA)."
   ]
  },
  {
   "cell_type": "code",
   "execution_count": 1,
   "metadata": {
    "deletable": false,
    "editable": false,
    "nbgrader": {
     "cell_type": "code",
     "checksum": "7807a0c189a6c7ed59c8e31b90cdded6",
     "grade": false,
     "grade_id": "cell-c4776a1666a48ddd",
     "locked": true,
     "schema_version": 3,
     "solution": false,
     "task": false
    }
   },
   "outputs": [],
   "source": [
    "# Define some helper functions that are used in this notebook\n",
    "\n",
    "%matplotlib inline\n",
    "from IPython.display import display, HTML\n",
    "\n",
    "def success():\n",
    "    display(HTML('<div class=\"alert alert-success\"><strong>Solution appears correct!</strong></div>'))"
   ]
  },
  {
   "cell_type": "markdown",
   "metadata": {},
   "source": [
    "## Hard clustering data set"
   ]
  },
  {
   "cell_type": "markdown",
   "metadata": {},
   "source": [
    "The raw data for the hard clustering part of this lab is a collection of product reviews. We have preprocessed the data by tokenization and lowercasing."
   ]
  },
  {
   "cell_type": "code",
   "execution_count": 2,
   "metadata": {
    "deletable": false,
    "editable": false,
    "nbgrader": {
     "cell_type": "code",
     "checksum": "007298be2cbb2c02ebe809b6a44f0f48",
     "grade": false,
     "grade_id": "cell-59c1ac1d68e6c524",
     "locked": true,
     "schema_version": 3,
     "solution": false,
     "task": false
    }
   },
   "outputs": [],
   "source": [
    "import pandas as pd\n",
    "import bz2\n",
    "\n",
    "with bz2.open('reviews.json.bz2') as source:\n",
    "    df = pd.read_json(source)"
   ]
  },
  {
   "cell_type": "markdown",
   "metadata": {},
   "source": [
    "When you inspect the data frame, you can see that there are three labelled columns: `category` (the product category), `sentiment` (whether the product review was classified as &lsquo;positive&rsquo; or &lsquo;negative&rsquo; towards the product), and `text` (the space-separated text of the review)."
   ]
  },
  {
   "cell_type": "code",
   "execution_count": 3,
   "metadata": {},
   "outputs": [
    {
     "data": {
      "text/html": [
       "<div>\n",
       "<style scoped>\n",
       "    .dataframe tbody tr th:only-of-type {\n",
       "        vertical-align: middle;\n",
       "    }\n",
       "\n",
       "    .dataframe tbody tr th {\n",
       "        vertical-align: top;\n",
       "    }\n",
       "\n",
       "    .dataframe thead th {\n",
       "        text-align: right;\n",
       "    }\n",
       "</style>\n",
       "<table border=\"1\" class=\"dataframe\">\n",
       "  <thead>\n",
       "    <tr style=\"text-align: right;\">\n",
       "      <th></th>\n",
       "      <th>category</th>\n",
       "      <th>sentiment</th>\n",
       "      <th>text</th>\n",
       "    </tr>\n",
       "  </thead>\n",
       "  <tbody>\n",
       "    <tr>\n",
       "      <th>0</th>\n",
       "      <td>music</td>\n",
       "      <td>neg</td>\n",
       "      <td>i bought this album because i loved the title ...</td>\n",
       "    </tr>\n",
       "    <tr>\n",
       "      <th>1</th>\n",
       "      <td>music</td>\n",
       "      <td>neg</td>\n",
       "      <td>i was misled and thought i was buying the enti...</td>\n",
       "    </tr>\n",
       "    <tr>\n",
       "      <th>2</th>\n",
       "      <td>books</td>\n",
       "      <td>neg</td>\n",
       "      <td>i have introduced many of my ell , high school...</td>\n",
       "    </tr>\n",
       "    <tr>\n",
       "      <th>3</th>\n",
       "      <td>books</td>\n",
       "      <td>pos</td>\n",
       "      <td>anything you purchase in the left behind serie...</td>\n",
       "    </tr>\n",
       "    <tr>\n",
       "      <th>4</th>\n",
       "      <td>dvd</td>\n",
       "      <td>pos</td>\n",
       "      <td>i loved these movies , and i cant wiat for the...</td>\n",
       "    </tr>\n",
       "  </tbody>\n",
       "</table>\n",
       "</div>"
      ],
      "text/plain": [
       "  category sentiment                                               text\n",
       "0    music       neg  i bought this album because i loved the title ...\n",
       "1    music       neg  i was misled and thought i was buying the enti...\n",
       "2    books       neg  i have introduced many of my ell , high school...\n",
       "3    books       pos  anything you purchase in the left behind serie...\n",
       "4      dvd       pos  i loved these movies , and i cant wiat for the..."
      ]
     },
     "execution_count": 3,
     "metadata": {},
     "output_type": "execute_result"
    }
   ],
   "source": [
    "df.head()"
   ]
  },
  {
   "cell_type": "markdown",
   "metadata": {},
   "source": [
    "## Problem 1: K-means clustering"
   ]
  },
  {
   "cell_type": "markdown",
   "metadata": {},
   "source": [
    "Your first task is to cluster the product review data using a tf–idf vectorizer and a $k$-means clusterer."
   ]
  },
  {
   "cell_type": "markdown",
   "metadata": {},
   "source": [
    "### Task 1.1\n",
    "\n",
    "Start by doing the vectorization. In connection with vectorization, you should also filter out standard English stop words. While you could use [spaCy](https://spacy.io/) for this task, here it suffices to use the word list implemented in [TfidfVectorizer](https://scikit-learn.org/stable/modules/generated/sklearn.feature_extraction.text.TfidfVectorizer.html).\n",
    "\n",
    "After running the following cell:\n",
    "- `vectorizer` should contain the vectorizer fitted on `df['text']`\n",
    "- `reviews` should contain the vectorized `df['text']`"
   ]
  },
  {
   "cell_type": "code",
   "execution_count": 4,
   "metadata": {
    "deletable": false,
    "nbgrader": {
     "cell_type": "code",
     "checksum": "217b844f6aadf1c8e9e02c15f8a9fc13",
     "grade": false,
     "grade_id": "cell-66e447662e958a44",
     "locked": false,
     "schema_version": 3,
     "solution": true,
     "task": false
    }
   },
   "outputs": [],
   "source": [
    "vectorizer, reviews = ..., ...\n",
    "\n",
    "# YOUR CODE HERE\n",
    "from sklearn.feature_extraction.text import TfidfVectorizer\n",
    "from sklearn.feature_extraction._stop_words import ENGLISH_STOP_WORDS\n",
    "vectorizer = TfidfVectorizer(stop_words=list(ENGLISH_STOP_WORDS))\n",
    "reviews = vectorizer.fit_transform(df['text'])\n"
   ]
  },
  {
   "cell_type": "markdown",
   "metadata": {},
   "source": [
    "#### 🤞 Test your code\n",
    "\n",
    "If you used the English stop word list from scikit-learn, then the resulting vocabulary should have 46,619 entries.  You can check this by running the following code cell:"
   ]
  },
  {
   "cell_type": "code",
   "execution_count": 5,
   "metadata": {
    "deletable": false,
    "editable": false,
    "nbgrader": {
     "cell_type": "code",
     "checksum": "8fa82a4915bf8f9efc24e3b73e83a61c",
     "grade": true,
     "grade_id": "cell-b57497f350b4805e",
     "locked": true,
     "points": 1,
     "schema_version": 3,
     "solution": false,
     "task": false
    }
   },
   "outputs": [
    {
     "data": {
      "text/html": [
       "<div class=\"alert alert-success\"><strong>Solution appears correct!</strong></div>"
      ],
      "text/plain": [
       "<IPython.core.display.HTML object>"
      ]
     },
     "metadata": {},
     "output_type": "display_data"
    }
   ],
   "source": [
    "\"\"\"Check that the vectorized text column has the right dimensions.\"\"\"\n",
    "\n",
    "assert reviews.shape == (11914, 46619), f\"Wrong dimensions: {reviews.shape}\"\n",
    "success()"
   ]
  },
  {
   "cell_type": "markdown",
   "metadata": {},
   "source": [
    "### Task 1.2\n",
    "\n",
    "Next, cluster the vectorized data. Before doing so, you should read the documentation of the [KMeans](https://scikit-learn.org/stable/modules/generated/sklearn.cluster.KMeans.html) class, which is scikit-learn&rsquo;s implementation of the $k$-means algorithm. As you can see, this class has several parameters that you can tweak. For now, the only parameter that you will have to set is the number of clusters. Start with $k=3$.\n",
    "\n",
    "**Tip:** Training $k$-means models will take some time. To speed things up, you can use the `n_init` parameter to control the number of times that the clustering is re-computed with different initial values. The default value for this parameter is 10; here and in the rest of this lab, you may want to set this to a lower value, or simply to \"auto\"."
   ]
  },
  {
   "cell_type": "code",
   "execution_count": 6,
   "metadata": {
    "deletable": false,
    "nbgrader": {
     "cell_type": "code",
     "checksum": "f795b44fb710deb8ec6557222fe3186f",
     "grade": true,
     "grade_id": "cell-17f7b79dee452c3d",
     "locked": false,
     "points": 1,
     "schema_version": 3,
     "solution": true,
     "task": false
    },
    "tags": [
     "solution"
    ]
   },
   "outputs": [],
   "source": [
    "from sklearn.cluster import KMeans\n",
    "\n",
    "def fit_kmeans(data, n_clusters):\n",
    "    \"\"\"Fit a k-means classifier to some data.\n",
    "\n",
    "    Arguments:\n",
    "        data: The vectorized data to train the classifier on.\n",
    "        n_clusters (int): The number of clusters.\n",
    "\n",
    "    Returns:\n",
    "        The trained k-means classifier.\n",
    "    \"\"\"\n",
    "    # YOUR CODE HERE\n",
    "    return KMeans(n_clusters=n_clusters, n_init=10).fit(data)\n",
    "\n",
    "\n",
    "    "
   ]
  },
  {
   "cell_type": "markdown",
   "metadata": {},
   "source": [
    "To sanity-check your clustering, create a bar plot with the number of documents per cluster."
   ]
  },
  {
   "cell_type": "code",
   "execution_count": 7,
   "metadata": {
    "deletable": false,
    "nbgrader": {
     "cell_type": "code",
     "checksum": "40b71623600900c4911b5c12c3aa597e",
     "grade": true,
     "grade_id": "cell-d54820cd63b959ee",
     "locked": false,
     "points": 1,
     "schema_version": 3,
     "solution": true,
     "task": false
    },
    "tags": [
     "solution"
    ]
   },
   "outputs": [],
   "source": [
    "import matplotlib.pyplot as plt\n",
    "\n",
    "def plot_cluster_size(kmeans):\n",
    "    \"\"\"Produce & display a bar plot with the number of documents per cluster.\n",
    "\n",
    "    Arguments:\n",
    "        kmeans: The trained k-means classifier.\n",
    "    \"\"\"\n",
    "    # YOUR CODE HERE\n",
    "    \n",
    "    labels = kmeans.labels_\n",
    "    clusters = ['cluster 1', 'cluster 2', 'cluster 3']\n",
    "    n_class = []\n",
    "    for i in range(3):\n",
    "        n_class.append(sum(labels == i))\n",
    "\n",
    "    plt.bar(x=clusters, height=n_class)\n",
    "    plt.xlabel('clusters')\n",
    "    plt.ylabel('amount')\n",
    "    plt.title('Bar Chart for Documents')\n",
    "\n",
    "    plt.show()\n",
    "    \n",
    "\n",
    "\n",
    "\n",
    "    "
   ]
  },
  {
   "cell_type": "markdown",
   "metadata": {},
   "source": [
    "#### 🤞 Test your code\n",
    "\n",
    "The following cell shows how your code should run.  The output of the cell should be the bar plot of the cluster sizes.  Note that sizes may vary considerable between clusters and among different random seeds, so there is no single “correct” output here!"
   ]
  },
  {
   "cell_type": "code",
   "execution_count": 8,
   "metadata": {
    "deletable": false,
    "editable": false,
    "nbgrader": {
     "cell_type": "code",
     "checksum": "be43147fbe32384e27725a250f90f8ed",
     "grade": false,
     "grade_id": "cell-d19c0d777f6bc8c2",
     "locked": true,
     "schema_version": 3,
     "solution": false,
     "task": false
    }
   },
   "outputs": [
    {
     "data": {
      "image/png": "[encoded data removed]",
      "text/plain": [
       "<Figure size 640x480 with 1 Axes>"
      ]
     },
     "metadata": {},
     "output_type": "display_data"
    }
   ],
   "source": [
    "kmeans = fit_kmeans(reviews, 3)\n",
    "plot_cluster_size(kmeans)"
   ]
  },
  {
   "cell_type": "markdown",
   "metadata": {},
   "source": [
    "## Problem 2: Summarize clusters"
   ]
  },
  {
   "cell_type": "markdown",
   "metadata": {},
   "source": [
    "Once you have a clustering, you can try to see whether it is meaningful. One useful technique in that context is to generate a **summary** for each cluster by extracting the $n$ highest-weighted terms from the centroid of each cluster. Your next task is to implement this approach.\n",
    "\n",
    "(Hint: You will need to figure out how to use the vectorizer to convert indices back into the terms they represent.)"
   ]
  },
  {
   "cell_type": "code",
   "execution_count": 9,
   "metadata": {
    "deletable": false,
    "nbgrader": {
     "cell_type": "code",
     "checksum": "73780d42ca4a36fe68288e076eb07c88",
     "grade": false,
     "grade_id": "cell-163a8b35215df9ad",
     "locked": false,
     "schema_version": 3,
     "solution": true,
     "task": false
    }
   },
   "outputs": [],
   "source": [
    "import numpy as np\n",
    "\n",
    "def compute_cluster_summaries(kmeans, vectorizer, top_n):\n",
    "    \"\"\"Compute the top_n highest-weighted terms from the centroid of each cluster.\n",
    "\n",
    "    Arguments:\n",
    "        kmeans: The trained k-means classifier.\n",
    "        vectorizer: The fitted vectorizer; needed to obtain the actual terms\n",
    "                    belonging to the items in the cluster.\n",
    "        top_n: The number of terms to return for each cluster.\n",
    "\n",
    "    Returns:\n",
    "        A list of length k, where k is the number of clusters. Each item in the list\n",
    "        should be a list of length `top_n` with the highest-weighted terms from that\n",
    "        cluster.  Example:\n",
    "          [[\"first\", \"foo\", ...], [\"second\", \"bar\", ...], [\"third\", \"baz\", ...]]\n",
    "    \"\"\"\n",
    "    # YOUR CODE HERE\n",
    "\n",
    "    # swap the values and correpondingly keys to create a new dictionary for the next steps to find terms\n",
    "    dic_new = {value:key for key, value in vectorizer.vocabulary_.items()}\n",
    "\n",
    "\n",
    "\n",
    "    # find the three cluster_centers\n",
    "    highest_weighted_terms = []\n",
    "    for i in range(3):\n",
    "         # find the 10 largest values and their index in one of the cluster_centers\n",
    "         ten_elements = sorted(enumerate(kmeans.cluster_centers_[i,:]), key=lambda x : x[1], reverse=True)[:10]\n",
    "\n",
    "         # create the list used for finding terms\n",
    "         list_index = [element[0] for element in ten_elements]\n",
    "         list_elements = [dic_new[index] for index in list_index]\n",
    "         highest_weighted_terms.append(list_elements)\n",
    "         \n",
    "    return highest_weighted_terms\n",
    "    "
   ]
  },
  {
   "cell_type": "markdown",
   "metadata": {
    "tags": [
     "solution"
    ]
   },
   "source": [
    "### 🤞 Test your code\n",
    "\n",
    "The following cell runs your code with `top_n=10`, checks that the returned lists have the expected dimensions, and prints the summaries:"
   ]
  },
  {
   "cell_type": "code",
   "execution_count": 10,
   "metadata": {
    "deletable": false,
    "editable": false,
    "nbgrader": {
     "cell_type": "code",
     "checksum": "7f7b0b2a80b8227e4232eb58af9dee4f",
     "grade": true,
     "grade_id": "cell-068cd41672d89838",
     "locked": true,
     "points": 1,
     "schema_version": 3,
     "solution": false,
     "task": false
    },
    "tags": [
     "solution"
    ]
   },
   "outputs": [
    {
     "data": {
      "text/html": [
       "<div class=\"alert alert-success\"><strong>Solution appears correct!</strong></div>"
      ],
      "text/plain": [
       "<IPython.core.display.HTML object>"
      ]
     },
     "metadata": {},
     "output_type": "display_data"
    },
    {
     "name": "stdout",
     "output_type": "stream",
     "text": [
      "Cluster 0: product, like, great, cd, just, use, good, album, time, does\n",
      "Cluster 1: book, movie, quot, film, read, story, like, just, good, great\n",
      "Cluster 2: camera, lens, pictures, canon, digital, use, flash, battery, quality, great\n"
     ]
    }
   ],
   "source": [
    "summaries = compute_cluster_summaries(kmeans, vectorizer, 10)\n",
    "\n",
    "assert isinstance(summaries, list) and len(summaries) == 3, \"Return value should be a list of length 3 (the number of clusters)\"\n",
    "assert all(len(summary) == 10 for summary in summaries), \"Each list should contain exactly 10 terms\"\n",
    "assert all(isinstance(term, str) for s in summaries for term in s), \"Each list should contain strings\"\n",
    "success()\n",
    "\n",
    "for idx, terms in enumerate(summaries):\n",
    "    print(f\"Cluster {idx}: {', '.join(terms)}\")"
   ]
  },
  {
   "cell_type": "markdown",
   "metadata": {},
   "source": [
    "Once you have computed the cluster summaries, take a minute to reflect on their quality. Is it clear what the reviews in a given cluster are about? Do the cluster summaries contain any unexpected terms?"
   ]
  },
  {
   "cell_type": "markdown",
   "metadata": {},
   "source": [
    "## Problem 3: Compare clusterings using the Rand index"
   ]
  },
  {
   "cell_type": "markdown",
   "metadata": {},
   "source": [
    "In some scenarios, you may have gold-standard class labels available for at least a subset of your documents. In these cases you can compute the **Rand index** of a clustering, and use this measure to compare the quality of different clusterings.\n",
    "\n",
    "To compute the Rand index, we view a clustering as a binary classifier on (unordered) pairs of documents. The classifier predicts &lsquo;positive&rsquo; if and only if the two documents belong to the same cluster. The (non-normalized) Rand index of the clustering is the accuracy of this classifier relative to a reference in which a document pair belongs to the &lsquo;positive&rsquo; class if and only if the two documents in the pair have the same gold-standard class label."
   ]
  },
  {
   "cell_type": "markdown",
   "metadata": {},
   "source": [
    "### Task 3.1\n",
    "\n",
    "Implement a function that computes the Rand index “manually”, i.e., _without_ importing an external function from a library."
   ]
  },
  {
   "cell_type": "code",
   "execution_count": 11,
   "metadata": {
    "deletable": false,
    "nbgrader": {
     "cell_type": "code",
     "checksum": "31d1156b7fe04f427a13c7b312e6ef03",
     "grade": false,
     "grade_id": "cell-76954c34414f243d",
     "locked": false,
     "schema_version": 3,
     "solution": true,
     "task": false
    },
    "tags": [
     "solution"
    ]
   },
   "outputs": [],
   "source": [
    "def rand_index(pred_labels, gold_labels):\n",
    "    \"\"\"Compute the Rand index.\n",
    "\n",
    "    Arguments:\n",
    "        pred_labels: The predicted labels.\n",
    "        gold_labels: The gold-standard labels.\n",
    "\n",
    "    Returns:\n",
    "        The Rand index (a single number).\n",
    "    \"\"\"\n",
    "    # YOUR CODE HERE\n",
    "    count = 0\n",
    "    num_agreeing_pairs = 0\n",
    "    for i in range(len(pred_labels)-1):\n",
    "        for j in range(i+1,len(pred_labels)):\n",
    "            count +=1\n",
    "            if pred_labels[i] == pred_labels[j]:\n",
    "                if gold_labels[i] == gold_labels[j]:\n",
    "                    num_agreeing_pairs +=1\n",
    "            else:\n",
    "                if gold_labels[i] != gold_labels[j]:\n",
    "                    num_agreeing_pairs +=1\n",
    "    \n",
    "    return num_agreeing_pairs/count\n"
   ]
  },
  {
   "cell_type": "markdown",
   "metadata": {},
   "source": [
    "#### 🤞 Test your code\n",
    "\n",
    "The following cell computes the Rand index on some “toy” examples to check if your implementation is correct:"
   ]
  },
  {
   "cell_type": "code",
   "execution_count": 12,
   "metadata": {
    "deletable": false,
    "editable": false,
    "nbgrader": {
     "cell_type": "code",
     "checksum": "4de223b4bd77bb39a629bcecb211fff6",
     "grade": true,
     "grade_id": "cell-c7bdeb650dcffdc0",
     "locked": true,
     "points": 1,
     "schema_version": 3,
     "solution": false,
     "task": false
    }
   },
   "outputs": [
    {
     "data": {
      "text/html": [
       "<div class=\"alert alert-success\"><strong>Solution appears correct!</strong></div>"
      ],
      "text/plain": [
       "<IPython.core.display.HTML object>"
      ]
     },
     "metadata": {},
     "output_type": "display_data"
    }
   ],
   "source": [
    "assert rand_index([0, 0, 0], [0, 1, 2]) == 0.0\n",
    "assert rand_index([1, 2, 0], [0, 1, 2]) == 1.0\n",
    "assert rand_index([1, 2, 1, 2], [0, 1, 2, 2]) == 0.5\n",
    "success()"
   ]
  },
  {
   "cell_type": "markdown",
   "metadata": {},
   "source": [
    "### Task 3.2\n",
    "\n",
    "Using your implementation of the Rand index, compare the performance of different k-means clusters with $k \\in \\{1,2,3,5,7\\}$ clusters. As your evaluation data, use the first 500 documents from the original data set along with their gold-standard categories (from the `category` column).\n",
    "\n",
    "Your implementation should print the computed Rand index for each of the values for $k$."
   ]
  },
  {
   "cell_type": "code",
   "execution_count": 81,
   "metadata": {
    "deletable": false,
    "nbgrader": {
     "cell_type": "code",
     "checksum": "2f80b627a09960efb60af3b56678a802",
     "grade": true,
     "grade_id": "cell-66890753e9a48887",
     "locked": false,
     "points": 1,
     "schema_version": 3,
     "solution": true,
     "task": false
    },
    "tags": [
     "solution"
    ]
   },
   "outputs": [
    {
     "data": {
      "text/plain": [
       "[0.16626052104208416,\n",
       " 0.3679438877755511,\n",
       " 0.5949739478957916,\n",
       " 0.7565771543086173,\n",
       " 0.7992384769539078,\n",
       " 0.8339959919839679,\n",
       " 0.8199519038076152]"
      ]
     },
     "execution_count": 81,
     "metadata": {},
     "output_type": "execute_result"
    }
   ],
   "source": [
    "# YOUR CODE HERE\n",
    "K =[1,2,3,5,6,7,8]\n",
    "new_data = df.iloc[:500,:]\n",
    "new_reviews = vectorizer.fit_transform(new_data['text'])\n",
    "gold_labels = new_data['category']\n",
    "list_rand_index = []\n",
    "for k in K:\n",
    "    kmeans = fit_kmeans(new_reviews,k)\n",
    "    pred_labels = kmeans.labels_\n",
    "    value = rand_index(pred_labels, gold_labels)\n",
    "    list_rand_index.append(value)\n",
    "\n",
    "list_rand_index"
   ]
  },
  {
   "cell_type": "code",
   "execution_count": 79,
   "metadata": {},
   "outputs": [
    {
     "data": {
      "text/plain": [
       "array(['music', 'books', 'dvd', 'camera', 'health', 'software'],\n",
       "      dtype=object)"
      ]
     },
     "execution_count": 79,
     "metadata": {},
     "output_type": "execute_result"
    }
   ],
   "source": [
    "gold_labels.unique()"
   ]
  },
  {
   "cell_type": "markdown",
   "metadata": {},
   "source": [
    "Give a brief summary of your results!"
   ]
  },
  {
   "cell_type": "markdown",
   "metadata": {
    "deletable": false,
    "nbgrader": {
     "cell_type": "markdown",
     "checksum": "3fa53fcb38d0309276a8689dd70eb169",
     "grade": true,
     "grade_id": "cell-ef200b0b79192210",
     "locked": false,
     "points": 1,
     "schema_version": 3,
     "solution": true,
     "task": false
    }
   },
   "source": [
    "When we set k to closer to the real number of clusters, the performance of hard clustering will become good. In this case, the real number of categories is 6. From the output we can see as the k value tends to 6, the Rand Index increases. When k equals 7, model performance is the best."
   ]
  },
  {
   "cell_type": "markdown",
   "metadata": {},
   "source": [
    "## Problem 4: Train a topic model"
   ]
  },
  {
   "cell_type": "markdown",
   "metadata": {},
   "source": [
    "### Data set"
   ]
  },
  {
   "cell_type": "markdown",
   "metadata": {},
   "source": [
    "The data set for the topic modelling part of this lab is the collection of all [State of the Union](https://en.wikipedia.org/wiki/State_of_the_Union) addresses from the years 1975–2000. These speeches come as a single text file with one sentence per line. The following code cell prints the first 5 lines from the data file:"
   ]
  },
  {
   "cell_type": "code",
   "execution_count": 14,
   "metadata": {
    "deletable": false,
    "editable": false,
    "nbgrader": {
     "cell_type": "code",
     "checksum": "d5e5be2b47aae266f8df5e3f7fca032e",
     "grade": false,
     "grade_id": "cell-a711c6fabeaeae3e",
     "locked": true,
     "schema_version": 3,
     "solution": false,
     "task": false
    }
   },
   "outputs": [
    {
     "name": "stdout",
     "output_type": "stream",
     "text": [
      "mr speaker mr vice president members of the 94th congress and distinguished guests\n",
      "twenty six years ago a freshman congressman a young fellow with lots of idealism who was out to change the world stood before sam rayburn in the well of the house and solemnly swore to the same oath that all of you took yesterday an unforgettable experience and i congratulate you all\n",
      "two days later that same freshman stood at the back of this great chamber over there someplace as president truman all charged up by his single handed election victory reported as the constitution requires on the state of the union\n",
      "when the bipartisan applause stopped president truman said i am happy to report to this 81st congress that the state of the union is good our nation is better able than ever before to meet the needs of the american people and to give them their fair chance in the pursuit of happiness it is foremost among the nations of the world in the search for peace\n",
      "today that freshman member from michigan stands where mr truman stood and i must say to you that the state of the union is not good\n"
     ]
    }
   ],
   "source": [
    "from itertools import islice\n",
    "\n",
    "with open('sotu_1975_2000.txt') as source:\n",
    "    # Print the first 5 lines only\n",
    "    for line in islice(source, 5):\n",
    "        print(line.rstrip())"
   ]
  },
  {
   "cell_type": "markdown",
   "metadata": {},
   "source": [
    "Take a few minutes to think about what topics you would expect in this data set."
   ]
  },
  {
   "cell_type": "markdown",
   "metadata": {},
   "source": [
    "### Task 4.1\n",
    "\n",
    "Your first task on the topic modelling data is to train an LDA model. For this task you will be using [spaCy](https://spacy.io/) and the [gensim](https://radimrehurek.com/gensim/) topic modelling library.\n",
    "\n",
    "Start by preprocessing the data using spaCy.  Filter out stop words, non-alphabetic tokens, and tokens less than 3 characters in length. Store the documents as a nested list where the first level of nesting corresponds to the sentences and the second level corresponds to the tokens in each sentence."
   ]
  },
  {
   "cell_type": "code",
   "execution_count": 15,
   "metadata": {
    "deletable": false,
    "nbgrader": {
     "cell_type": "code",
     "checksum": "16b4a664e4f2a13ff57f5b040448b063",
     "grade": false,
     "grade_id": "cell-201e607b610e47af",
     "locked": false,
     "schema_version": 3,
     "solution": true,
     "task": false
    }
   },
   "outputs": [],
   "source": [
    "import spacy\n",
    "nlp = spacy.load(\"en_core_web_sm\")\n",
    "\n",
    "def load_and_preprocess_documents(filename=\"sotu_1975_2000.txt\"):\n",
    "    \"\"\"Load and preprocess all documents in the given file.\n",
    "\n",
    "    The preprocessing must filter out stop words, non-alphabetic tokens,\n",
    "    and tokens less than 3 characters in length.\n",
    "\n",
    "    Returns:\n",
    "        A list of length n, where n is the number of documents.\n",
    "        Each item in the list should be a list of tokens in the given\n",
    "        document, after preprocessing.\n",
    "    \"\"\"\n",
    "    # YOUR CODE HERE\n",
    "    list_all = []\n",
    "    with open('sotu_1975_2000.txt') as source:\n",
    "        for line in source:\n",
    "            list_inner = [token.text for token in nlp(line) if not token.is_stop and token.is_alpha and len(token.text)>=3]\n",
    "            list_all.append(list_inner)\n",
    "    return list_all\n",
    "        \n",
    "    "
   ]
  },
  {
   "cell_type": "markdown",
   "metadata": {},
   "source": [
    "#### 🤞 Test your code\n",
    "\n",
    "Test your preprocessing by running the following cell. It will output the tokens (after preprocessing) for an example document and compare them against the expected output."
   ]
  },
  {
   "cell_type": "code",
   "execution_count": 16,
   "metadata": {
    "deletable": false,
    "editable": false,
    "nbgrader": {
     "cell_type": "code",
     "checksum": "229dff2225112ff17f3aa598dd5145da",
     "grade": true,
     "grade_id": "cell-4fa26bc22c42b359",
     "locked": true,
     "points": 1,
     "schema_version": 3,
     "solution": false,
     "task": false
    }
   },
   "outputs": [
    {
     "name": "stdout",
     "output_type": "stream",
     "text": [
      "document  0 after preprocessing: speaker vice president members congress distinguished guests\n",
      "document 42 after preprocessing: reduce oil imports million barrels day end year million barrels day end\n"
     ]
    },
    {
     "data": {
      "text/html": [
       "<div class=\"alert alert-success\"><strong>Solution appears correct!</strong></div>"
      ],
      "text/plain": [
       "<IPython.core.display.HTML object>"
      ]
     },
     "metadata": {},
     "output_type": "display_data"
    }
   ],
   "source": [
    "documents = load_and_preprocess_documents()\n",
    "\n",
    "assert len(documents) == 2898, \"The number of documents should equal the number of lines in the input file\"\n",
    "print(f\"document  0 after preprocessing: {' '.join(documents[0])}\")\n",
    "assert \" \".join(documents[0]) == \"speaker vice president members congress distinguished guests\"\n",
    "print(f\"document 42 after preprocessing: {' '.join(documents[42])}\")\n",
    "assert \" \".join(documents[42]) == \"reduce oil imports million barrels day end year million barrels day end\", \"The output for document 42 does not appear to be correct\"\n",
    "success()"
   ]
  },
  {
   "cell_type": "markdown",
   "metadata": {},
   "source": [
    "### Task 4.2\n",
    "\n",
    "Now that you have the list of documents, skim the section [Pre-process and vectorize the documents](https://radimrehurek.com/gensim/auto_examples/tutorials/run_lda.html#pre-process-and-vectorize-the-documents) of the gensim documentation to learn how to create the dictionary and the vectorized corpus representation required by gensim. _(Note that you cannot use the standard scikit-learn pipeline in this case.)_ Then, write code to train an [LdaModel](https://radimrehurek.com/gensim/models/ldamodel.html) for $k=10$ topics, and using default values for all other parameters."
   ]
  },
  {
   "cell_type": "code",
   "execution_count": 55,
   "metadata": {
    "deletable": false,
    "nbgrader": {
     "cell_type": "code",
     "checksum": "91f666ca9c35be5c2b905f6ddf334ff4",
     "grade": true,
     "grade_id": "cell-8461457012cd240d",
     "locked": false,
     "points": 1,
     "schema_version": 3,
     "solution": true,
     "task": false
    },
    "tags": [
     "solution"
    ]
   },
   "outputs": [],
   "source": [
    "from gensim.corpora.dictionary import Dictionary\n",
    "from gensim.models import LdaModel\n",
    "\n",
    "def train_lda_model(documents, num_topics, passes=1):\n",
    "    \"\"\"Create and train an LDA model.\n",
    "\n",
    "    Arguments:\n",
    "        documents: The preprocessed documents, as produced in Task 4.1.\n",
    "        num_topics: The number of topics to generate.\n",
    "        passes: The number of training passes. Defaults to 1; you will need\n",
    "                this later for Task 5.\n",
    "\n",
    "    Returns:\n",
    "        The trained LDA model.\n",
    "    \"\"\"\n",
    "    # YOUR CODE HERE\n",
    "    # create a dic and filter out some words and finally get the bag-of-words for each document\n",
    "    dictionary = Dictionary(documents)\n",
    "    dictionary.filter_extremes(no_below=20, no_above=0.5)\n",
    "    corpus = [dictionary.doc2bow(doc) for doc in documents]\n",
    "\n",
    "    temp = dictionary[0] # It seems meaningless, but without it, error info. will appear.\n",
    "    id2word = dictionary.id2token\n",
    "\n",
    "    \n",
    "    model = LdaModel(\n",
    "        corpus=corpus,\n",
    "        id2word=id2word,\n",
    "        num_topics=num_topics,\n",
    "        passes=passes,\n",
    "    \n",
    "    )\n",
    "    \n",
    "    return model\n"
   ]
  },
  {
   "cell_type": "code",
   "execution_count": 66,
   "metadata": {},
   "outputs": [
    {
     "name": "stdout",
     "output_type": "stream",
     "text": [
      "The number of docs is 2898\n"
     ]
    }
   ],
   "source": [
    "dictionary = Dictionary(documents)\n",
    "dictionary.filter_extremes(no_below=20, no_above=0.5)\n",
    "corpus = [dictionary.doc2bow(doc) for doc in documents]\n",
    "\n",
    "print(f\"The number of docs is {len(corpus)}\") # Although at first the checksize is larger than this value, we cannot get the list with values."
   ]
  },
  {
   "cell_type": "markdown",
   "metadata": {},
   "source": [
    "#### 🤞 Test your code\n",
    "\n",
    "Run the following cell to test your code and print the topics:"
   ]
  },
  {
   "cell_type": "code",
   "execution_count": 56,
   "metadata": {
    "deletable": false,
    "editable": false,
    "nbgrader": {
     "cell_type": "code",
     "checksum": "fcf6eedb85c6fecb5c6dc7f7d441af6b",
     "grade": false,
     "grade_id": "cell-5380fd6f4446aa21",
     "locked": true,
     "schema_version": 3,
     "solution": false,
     "task": false
    }
   },
   "outputs": [
    {
     "data": {
      "text/plain": [
       "[(0,\n",
       "  '0.024*\"security\" + 0.024*\"new\" + 0.018*\"year\" + 0.016*\"social\" + 0.014*\"years\" + 0.014*\"crime\" + 0.010*\"people\" + 0.010*\"let\" + 0.009*\"congress\" + 0.009*\"rate\"'),\n",
       " (1,\n",
       "  '0.016*\"health\" + 0.015*\"wage\" + 0.013*\"care\" + 0.013*\"act\" + 0.011*\"peace\" + 0.010*\"energy\" + 0.010*\"new\" + 0.010*\"tax\" + 0.010*\"congress\" + 0.010*\"companies\"'),\n",
       " (2,\n",
       "  '0.029*\"children\" + 0.027*\"people\" + 0.017*\"work\" + 0.015*\"families\" + 0.015*\"know\" + 0.013*\"school\" + 0.013*\"schools\" + 0.012*\"care\" + 0.011*\"let\" + 0.011*\"health\"'),\n",
       " (3,\n",
       "  '0.035*\"america\" + 0.035*\"years\" + 0.026*\"new\" + 0.014*\"people\" + 0.013*\"world\" + 0.012*\"budget\" + 0.012*\"government\" + 0.011*\"states\" + 0.009*\"american\" + 0.009*\"century\"'),\n",
       " (4,\n",
       "  '0.022*\"america\" + 0.016*\"nation\" + 0.014*\"world\" + 0.012*\"new\" + 0.012*\"government\" + 0.011*\"years\" + 0.011*\"federal\" + 0.010*\"year\" + 0.008*\"congress\" + 0.008*\"national\"'),\n",
       " (5,\n",
       "  '0.026*\"world\" + 0.019*\"americans\" + 0.018*\"people\" + 0.017*\"new\" + 0.017*\"america\" + 0.016*\"year\" + 0.015*\"home\" + 0.014*\"global\" + 0.014*\"community\" + 0.011*\"time\"'),\n",
       " (6,\n",
       "  '0.023*\"year\" + 0.014*\"congress\" + 0.014*\"new\" + 0.014*\"americans\" + 0.012*\"care\" + 0.011*\"child\" + 0.011*\"million\" + 0.011*\"federal\" + 0.010*\"ask\" + 0.009*\"years\"'),\n",
       " (7,\n",
       "  '0.020*\"people\" + 0.019*\"thank\" + 0.018*\"american\" + 0.018*\"america\" + 0.015*\"world\" + 0.013*\"century\" + 0.011*\"tax\" + 0.011*\"americans\" + 0.010*\"education\" + 0.010*\"country\"'),\n",
       " (8,\n",
       "  '0.028*\"work\" + 0.025*\"america\" + 0.017*\"let\" + 0.015*\"congress\" + 0.014*\"help\" + 0.014*\"need\" + 0.014*\"welfare\" + 0.013*\"people\" + 0.011*\"years\" + 0.011*\"american\"'),\n",
       " (9,\n",
       "  '0.020*\"new\" + 0.014*\"help\" + 0.013*\"economy\" + 0.013*\"year\" + 0.012*\"americans\" + 0.012*\"children\" + 0.012*\"nuclear\" + 0.010*\"work\" + 0.010*\"people\" + 0.010*\"know\"')]"
      ]
     },
     "execution_count": 56,
     "metadata": {},
     "output_type": "execute_result"
    }
   ],
   "source": [
    "model = train_lda_model(documents, 10)\n",
    "model.print_topics()"
   ]
  },
  {
   "cell_type": "markdown",
   "metadata": {},
   "source": [
    "Inspect the topics. Can you &lsquo;label&rsquo; each topic with a short description of what it is about? Do the topics match your expectations?"
   ]
  },
  {
   "cell_type": "markdown",
   "metadata": {},
   "source": [
    "## Problem 5: Monitor a topic model for convergence"
   ]
  },
  {
   "cell_type": "markdown",
   "metadata": {},
   "source": [
    "When learning an LDA model, it is important to make sure that the training algorithm has converged to a stable posterior distribution. One way to do so is to plot, after each training epochs (or &lsquo;pass&rsquo;, in gensim parlance) the log likelihood of the training data under the posterior. Your last task in this lab is to create such a plot and, based on this, to suggest an appropriate number of epochs.\n",
    "\n",
    "To collect information about the posterior likelihood after each pass, we need to enable the logging facilities of gensim. Once this is done, gensim will add various diagnostics to a log file `gensim.log`."
   ]
  },
  {
   "cell_type": "code",
   "execution_count": 58,
   "metadata": {
    "deletable": false,
    "editable": false,
    "nbgrader": {
     "cell_type": "code",
     "checksum": "093903f08ea645072cd835d7f07f39b5",
     "grade": false,
     "grade_id": "cell-12010ee79db96ae3",
     "locked": true,
     "schema_version": 3,
     "solution": false,
     "task": false
    }
   },
   "outputs": [],
   "source": [
    "import logging\n",
    "\n",
    "logging.basicConfig(filename='gensim.log', format='%(asctime)s:%(levelname)s:%(message)s', level=logging.INFO)\n",
    "\n",
    "\n",
    "\n",
    "def clear_logfile():\n",
    "    # To empty the log file\n",
    "    with open(\"gensim.log\", \"w\"):\n",
    "        pass"
   ]
  },
  {
   "cell_type": "markdown",
   "metadata": {},
   "source": [
    "The following function will parse the generated logfile and return the list of log likelihoods."
   ]
  },
  {
   "cell_type": "code",
   "execution_count": 59,
   "metadata": {
    "deletable": false,
    "editable": false,
    "nbgrader": {
     "cell_type": "code",
     "checksum": "35ed9c5af32a1a9a3891e7c4643c55e0",
     "grade": false,
     "grade_id": "cell-0bd244fbb805ee5d",
     "locked": true,
     "schema_version": 3,
     "solution": false,
     "task": false
    }
   },
   "outputs": [],
   "source": [
    "import re\n",
    "\n",
    "def parse_logfile():\n",
    "    \"\"\"Parse gensim.log to extract the log-likelihood scores.\n",
    "\n",
    "    Returns:\n",
    "        A list of log-likelihood scores.\n",
    "    \"\"\"\n",
    "    matcher = re.compile('(-*\\d+\\.\\d+) per-word .* (\\d+\\.\\d+) perplexity')\n",
    "    likelihoods = []\n",
    "    with open('gensim.log') as source:\n",
    "        for line in source:\n",
    "            match = matcher.search(line)\n",
    "            if match:\n",
    "                likelihoods.append(float(match.group(1)))\n",
    "    return likelihoods"
   ]
  },
  {
   "cell_type": "markdown",
   "metadata": {},
   "source": [
    "Here's an example how to run it — note that we call `clear_logfile()` to empty the logfile before training the model. If your code from problem 4 was correct, the result should be a list with a single log-likehoodscore, since we are doing a single training pass:"
   ]
  },
  {
   "cell_type": "code",
   "execution_count": 60,
   "metadata": {},
   "outputs": [
    {
     "name": "stdout",
     "output_type": "stream",
     "text": [
      "[-6.899]\n"
     ]
    }
   ],
   "source": [
    "clear_logfile()\n",
    "model = train_lda_model(documents, 10, passes=1)\n",
    "likelihoods = parse_logfile()\n",
    "print(likelihoods)"
   ]
  },
  {
   "cell_type": "markdown",
   "metadata": {},
   "source": [
    "### Task 5.1\n",
    "\n",
    "Your task now is to write re-train your LDA model for 50&nbsp;passes, retrieve the list of log likelihoods, and create a plot from this data."
   ]
  },
  {
   "cell_type": "code",
   "execution_count": 61,
   "metadata": {},
   "outputs": [
    {
     "name": "stdout",
     "output_type": "stream",
     "text": [
      "[-6.87, -6.449, -6.336, -6.277, -6.241, -6.216, -6.2, -6.188, -6.178, -6.169, -6.163, -6.157, -6.152, -6.148, -6.144, -6.142, -6.139, -6.137, -6.136, -6.134, -6.133, -6.131, -6.13, -6.129, -6.128, -6.127, -6.127, -6.126, -6.125, -6.125, -6.124, -6.124, -6.124, -6.123, -6.122, -6.122, -6.122, -6.121, -6.121, -6.121, -6.121, -6.12, -6.12, -6.12, -6.12, -6.119, -6.119, -6.119, -6.118, -6.118]\n"
     ]
    }
   ],
   "source": [
    "clear_logfile()\n",
    "model = train_lda_model(documents, 10, passes=50)\n",
    "likelihoods = parse_logfile()\n",
    "print(likelihoods)"
   ]
  },
  {
   "cell_type": "code",
   "execution_count": 62,
   "metadata": {
    "deletable": false,
    "nbgrader": {
     "cell_type": "code",
     "checksum": "19d9b6f7d4470539e80e448e546f73c8",
     "grade": true,
     "grade_id": "cell-e863fa5ab8cd3443",
     "locked": false,
     "points": 1,
     "schema_version": 3,
     "solution": true,
     "task": false
    },
    "tags": [
     "solution"
    ]
   },
   "outputs": [],
   "source": [
    "def plot_likelihoods(likelihoods):\n",
    "    \"\"\"Produce & display a plot of the log-likelihood scores during training.\n",
    "\n",
    "    Arguments:\n",
    "        likelihoods: A list of scores, as returned by `parse_logfile()`.\n",
    "    \"\"\"\n",
    "    # YOUR CODE HERE\n",
    "    plt.plot(likelihoods)\n",
    "    plt.show()\n",
    "    "
   ]
  },
  {
   "cell_type": "markdown",
   "metadata": {},
   "source": [
    "#### 🤞 Test your code\n",
    "\n",
    "Once you've implemented the plotting function, you can run the LDA model with 50 passes (this will take a moment) and plot the resulting scores:"
   ]
  },
  {
   "cell_type": "code",
   "execution_count": 63,
   "metadata": {
    "deletable": false,
    "editable": false,
    "nbgrader": {
     "cell_type": "code",
     "checksum": "e37e37873ac2ebb1292eb2b076d2b7d1",
     "grade": false,
     "grade_id": "cell-c7b05ddd48f08892",
     "locked": true,
     "schema_version": 3,
     "solution": false,
     "task": false
    }
   },
   "outputs": [
    {
     "data": {
      "image/png": "[encoded data removed]",
      "text/plain": [
       "<Figure size 640x480 with 1 Axes>"
      ]
     },
     "metadata": {},
     "output_type": "display_data"
    }
   ],
   "source": [
    "clear_logfile()\n",
    "model = train_lda_model(documents, 10, passes=50)\n",
    "likelihoods = parse_logfile()\n",
    "plot_likelihoods(likelihoods)"
   ]
  },
  {
   "cell_type": "markdown",
   "metadata": {},
   "source": [
    "### Task 5.2\n",
    "\n",
    "How do you interpret the plot you produced in Task 5.1? Based on the plot, what would be a reasonable choice for the number of passes? Retrain your LDA model with that number and re-inspect the topics it finds."
   ]
  },
  {
   "cell_type": "code",
   "execution_count": 64,
   "metadata": {
    "deletable": false,
    "nbgrader": {
     "cell_type": "code",
     "checksum": "ca1784a4dd4357b0958b6b854d06f209",
     "grade": true,
     "grade_id": "cell-8435567308839ce2",
     "locked": false,
     "points": 1,
     "schema_version": 3,
     "solution": true,
     "task": false
    }
   },
   "outputs": [
    {
     "data": {
      "text/plain": [
       "[(0,\n",
       "  '0.028*\"energy\" + 0.027*\"states\" + 0.023*\"united\" + 0.019*\"policy\" + 0.017*\"economic\" + 0.017*\"nations\" + 0.016*\"soviet\" + 0.014*\"international\" + 0.013*\"foreign\" + 0.013*\"program\"'),\n",
       " (1,\n",
       "  '0.033*\"congress\" + 0.028*\"let\" + 0.024*\"nuclear\" + 0.023*\"year\" + 0.020*\"war\" + 0.017*\"defense\" + 0.016*\"president\" + 0.016*\"weapons\" + 0.013*\"members\" + 0.013*\"ask\"'),\n",
       " (2,\n",
       "  '0.051*\"years\" + 0.046*\"federal\" + 0.037*\"government\" + 0.030*\"percent\" + 0.027*\"cut\" + 0.024*\"budget\" + 0.023*\"spending\" + 0.022*\"state\" + 0.022*\"year\" + 0.021*\"growth\"'),\n",
       " (3,\n",
       "  '0.051*\"children\" + 0.032*\"care\" + 0.029*\"health\" + 0.026*\"work\" + 0.022*\"child\" + 0.021*\"schools\" + 0.020*\"parents\" + 0.020*\"education\" + 0.019*\"school\" + 0.017*\"people\"'),\n",
       " (4,\n",
       "  '0.035*\"crime\" + 0.029*\"community\" + 0.027*\"congress\" + 0.026*\"act\" + 0.024*\"legislation\" + 0.017*\"house\" + 0.016*\"pass\" + 0.015*\"states\" + 0.014*\"communities\" + 0.014*\"bill\"'),\n",
       " (5,\n",
       "  '0.055*\"america\" + 0.043*\"world\" + 0.025*\"peace\" + 0.021*\"new\" + 0.018*\"nation\" + 0.018*\"freedom\" + 0.017*\"people\" + 0.017*\"century\" + 0.015*\"american\" + 0.014*\"future\"'),\n",
       " (6,\n",
       "  '0.026*\"trade\" + 0.021*\"new\" + 0.021*\"system\" + 0.019*\"markets\" + 0.018*\"america\" + 0.018*\"environment\" + 0.017*\"time\" + 0.015*\"god\" + 0.015*\"administration\" + 0.014*\"open\"'),\n",
       " (7,\n",
       "  '0.054*\"people\" + 0.037*\"government\" + 0.036*\"know\" + 0.026*\"country\" + 0.024*\"american\" + 0.019*\"right\" + 0.018*\"work\" + 0.017*\"want\" + 0.015*\"americans\" + 0.015*\"new\"'),\n",
       " (8,\n",
       "  '0.056*\"tax\" + 0.027*\"families\" + 0.024*\"year\" + 0.018*\"income\" + 0.017*\"pay\" + 0.016*\"propose\" + 0.016*\"cost\" + 0.016*\"billion\" + 0.016*\"cuts\" + 0.015*\"working\"'),\n",
       " (9,\n",
       "  '0.043*\"new\" + 0.033*\"jobs\" + 0.032*\"social\" + 0.030*\"security\" + 0.018*\"private\" + 0.017*\"congress\" + 0.017*\"help\" + 0.017*\"need\" + 0.015*\"budget\" + 0.013*\"workers\"')]"
      ]
     },
     "execution_count": 64,
     "metadata": {},
     "output_type": "execute_result"
    }
   ],
   "source": [
    "# YOUR CODE HERE\n",
    "clear_logfile()\n",
    "model = train_lda_model(documents, 10, passes=30)\n",
    "model.print_topics()"
   ]
  },
  {
   "cell_type": "markdown",
   "metadata": {},
   "source": [
    "Write a **brief** paragraph explaining how you chose the number of passes, and whether or not you consider the new topics to be &lsquo;better&rsquo; than the ones that you got from the 1-pass model in Problem&nbsp;4."
   ]
  },
  {
   "cell_type": "markdown",
   "metadata": {
    "deletable": false,
    "nbgrader": {
     "cell_type": "markdown",
     "checksum": "6b0703001a1b39ac3f3130c1d8f7a1c8",
     "grade": true,
     "grade_id": "cell-4830420c2012bd98",
     "locked": false,
     "points": 1,
     "schema_version": 3,
     "solution": true,
     "task": false
    }
   },
   "source": [
    "The number of passes I chose here is 30, and the reason is after the 30 times training process, the posterior likelihood changes very little, which means the model basically has converged.\n",
    "\n",
    "For the second question, I think this model is much better than before, we can easily get the main topic of the cluster. Unlike before, \"children\",\"nuclear\",\"economy\" are in the same \"tenth topic\"."
   ]
  },
  {
   "cell_type": "markdown",
   "id": "125ccdbd-4375-4d2f-8b1d-f47097ef2e84",
   "metadata": {},
   "source": [
    "**Congratulations on finishing this lab! 👍**\n",
    "\n",
    "<div class=\"alert alert-info\">\n",
    "    \n",
    "➡️ Don't forget to **test that everything runs as expected** before you submit!\n",
    "\n",
    "</div>"
   ]
  }
 ],
 "metadata": {
  "kernelspec": {
   "display_name": "Python 3 (ipykernel)",
   "language": "python",
   "name": "python3"
  },
  "language_info": {
   "codemirror_mode": {
    "name": "ipython",
    "version": 3
   },
   "file_extension": ".py",
   "mimetype": "text/x-python",
   "name": "python",
   "nbconvert_exporter": "python",
   "pygments_lexer": "ipython3",
   "version": "3.11.6"
  }
 },
 "nbformat": 4,
 "nbformat_minor": 4
}
